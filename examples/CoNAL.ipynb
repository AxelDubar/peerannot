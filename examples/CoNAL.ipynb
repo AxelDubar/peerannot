{
 "cells": [
  {
   "cell_type": "markdown",
   "id": "human-coordinator",
   "metadata": {},
   "source": [
    "# Deep aggregation with CoNAL (Common Noise Adaptation Layer)"
   ]
  },
  {
   "cell_type": "code",
   "execution_count": 1,
   "id": "cutting-hardware",
   "metadata": {},
   "outputs": [],
   "source": [
    "import numpy as np\n",
    "from pathlib import Path"
   ]
  },
  {
   "cell_type": "code",
   "execution_count": 2,
   "id": "liberal-drunk",
   "metadata": {},
   "outputs": [
    {
     "name": "stdout",
     "output_type": "stream",
     "text": [
      "/home/tlefort/Documents/peerannot/peerannot/datasets/labelme\n"
     ]
    }
   ],
   "source": [
    "DIR = Path().cwd()\n",
    "DIRlabelme = (DIR / \"..\" / \"datasets\" / \"labelme\").resolve()\n",
    "DIR_module = DIRlabelme / \"labelme.py\"\n",
    "DIR_answers = DIRlabelme / \"answers.json\"\n",
    "print(DIRlabelme)"
   ]
  },
  {
   "cell_type": "markdown",
   "id": "heard-tower",
   "metadata": {},
   "source": [
    "# Running CoNAL CLI"
   ]
  },
  {
   "cell_type": "code",
   "execution_count": null,
   "id": "potential-junction",
   "metadata": {},
   "outputs": [],
   "source": [
    "! peerannot aggregate-deep -h"
   ]
  },
  {
   "cell_type": "markdown",
   "id": "motivated-cleveland",
   "metadata": {},
   "source": [
    "The following command is an example on how to train CoNAL on labelme, but it is not advised to run it here (long and costly)"
   ]
  },
  {
   "cell_type": "markdown",
   "id": "reasonable-hardwood",
   "metadata": {
    "scrolled": false
   },
   "source": [
    "```shell\n",
    "peerannot aggregate-deep $DIRlabelme -o labelme_conal --answers $DIR_answers -s conal[scale=1e-5] \\\n",
    "    --model modellabelme --img-size=224 --pretrained --n-classes=8 \\\n",
    "    --n-epochs=1000 --lr=5e-3 --optimizer=adam \\\n",
    "    --batch-size=32 --num-workers=8 --data-augmentation\n",
    "```"
   ]
  },
  {
   "cell_type": "markdown",
   "id": "acting-relative",
   "metadata": {},
   "source": [
    "# Loading pretrained CoNAL"
   ]
  },
  {
   "cell_type": "code",
   "execution_count": 27,
   "id": "democratic-injury",
   "metadata": {},
   "outputs": [],
   "source": [
    "# Download model from\n",
    "# \"https://postechackr-my.sharepoint.com/personal/shhj1998_postech_ac_kr/_layouts/15/download.aspx?SourceUrl=%2Fpersonal%2Fshhj1998%5Fpostech%5Fac%5Fkr%2FDocuments%2F%ED%94%84%EB%A1%9C%EC%A0%9D%ED%8A%B8%2F%EB%8C%80%ED%95%99%EC%9B%90%2F%ED%81%AC%EB%9D%BC%EC%9A%B0%EB%93%9C%EC%86%8C%EC%8B%B1%2Fcheckpoints%2Flabelme%2Dv4%2Fbest%5Fmodel%2Epth\","
   ]
  },
  {
   "cell_type": "code",
   "execution_count": 33,
   "id": "advanced-deployment",
   "metadata": {},
   "outputs": [
    {
     "name": "stderr",
     "output_type": "stream",
     "text": [
      "Using cache found in /home/tlefort/.cache/torch/hub/pytorch_vision_main\n"
     ]
    },
    {
     "name": "stdout",
     "output_type": "stream",
     "text": [
      "Successfully loaded modellabelme with n_classes=8\n"
     ]
    }
   ],
   "source": [
    "import torch\n",
    "from peerannot.models.CoNAL import CoNAL_net\n",
    "from peerannot.helpers.networks import networks\n",
    "clf = networks(\"modellabelme\", n_classes=8)\n",
    "checkpoint = torch.load(DIRlabelme / \"best_models\" / \"pretrained_conal.pth\")"
   ]
  },
  {
   "cell_type": "code",
   "execution_count": 31,
   "id": "detected-arnold",
   "metadata": {},
   "outputs": [
    {
     "data": {
      "text/plain": [
       "CoNAL_net(\n",
       "  (auxiliary_network): AuxiliaryNetwork(\n",
       "    (weight_v1): Linear(in_features=150528, out_features=128, bias=True)\n",
       "    (weight_v2): Linear(in_features=128, out_features=20, bias=True)\n",
       "    (weight_u): Linear(in_features=59, out_features=20, bias=True)\n",
       "    (activation): Sigmoid()\n",
       "  )\n",
       "  (noise_adaptation_layer): NoiseAdaptationLayer()\n",
       ")"
      ]
     },
     "execution_count": 31,
     "metadata": {},
     "output_type": "execute_result"
    }
   ],
   "source": [
    "conal"
   ]
  },
  {
   "cell_type": "code",
   "execution_count": 35,
   "id": "heated-committee",
   "metadata": {},
   "outputs": [
    {
     "data": {
      "text/plain": [
       "<All keys matched successfully>"
      ]
     },
     "execution_count": 35,
     "metadata": {},
     "output_type": "execute_result"
    }
   ],
   "source": [
    "conal = CoNAL_net(input_dim=int(224 * 3 * 224),\n",
    "                  n_class=8,\n",
    "                  n_annotator=59,\n",
    "                  classifier=clf,\n",
    "                  annotator_dim=59,\n",
    "                  embedding_dim=20)\n",
    "conal.classifier.load_state_dict(checkpoint[\"classifier\"])\n",
    "conal.auxiliary_network.load_state_dict(checkpoint[\"auxiliary_network\"])\n",
    "conal.noise_adaptation_layer.load_state_dict(checkpoint[\"noise_adaptation_layer\"])"
   ]
  },
  {
   "cell_type": "code",
   "execution_count": 36,
   "id": "supposed-emergency",
   "metadata": {},
   "outputs": [],
   "source": [
    "conf_local = conal.noise_adaptation_layer.local_confusion_matrices.detach().numpy()  # Confusion matrices of each annotator\n",
    "conf_global = conal.noise_adaptation_layer.global_confusion_matrix.detach().numpy()   # Confusion matrix of common noise"
   ]
  },
  {
   "cell_type": "markdown",
   "id": "incoming-uruguay",
   "metadata": {},
   "source": [
    "# Visualize confusion matrices with CoNAL"
   ]
  },
  {
   "cell_type": "code",
   "execution_count": 37,
   "id": "informative-tobago",
   "metadata": {},
   "outputs": [],
   "source": [
    "import matplotlib.pyplot as plt"
   ]
  },
  {
   "cell_type": "code",
   "execution_count": 40,
   "id": "outstanding-bikini",
   "metadata": {},
   "outputs": [
    {
     "data": {
      "text/plain": [
       "<matplotlib.colorbar.Colorbar at 0x7f6ad86ac790>"
      ]
     },
     "execution_count": 40,
     "metadata": {},
     "output_type": "execute_result"
    },
    {
     "data": {
      "image/png": "[encoded data removed]",
      "text/plain": [
       "<Figure size 432x288 with 2 Axes>"
      ]
     },
     "metadata": {
      "needs_background": "light"
     },
     "output_type": "display_data"
    }
   ],
   "source": [
    "plot = plt.imshow(conf_global)\n",
    "plt.colorbar(plot)"
   ]
  },
  {
   "cell_type": "code",
   "execution_count": 43,
   "id": "collectible-people",
   "metadata": {},
   "outputs": [
    {
     "data": {
      "text/plain": [
       "<matplotlib.colorbar.Colorbar at 0x7f6ad84db400>"
      ]
     },
     "execution_count": 43,
     "metadata": {},
     "output_type": "execute_result"
    },
    {
     "data": {
      "image/png": "[encoded data removed]",
      "text/plain": [
       "<Figure size 432x288 with 2 Axes>"
      ]
     },
     "metadata": {
      "needs_background": "light"
     },
     "output_type": "display_data"
    }
   ],
   "source": [
    "plot_w = conf_local[2]\n",
    "plot_w = plt.imshow(plot_w)\n",
    "plt.colorbar(plot_w)"
   ]
  },
  {
   "cell_type": "code",
   "execution_count": null,
   "id": "standing-transition",
   "metadata": {},
   "outputs": [],
   "source": []
  }
 ],
 "metadata": {
  "kernelspec": {
   "display_name": "Python 3",
   "language": "python",
   "name": "python3"
  },
  "language_info": {
   "codemirror_mode": {
    "name": "ipython",
    "version": 3
   },
   "file_extension": ".py",
   "mimetype": "text/x-python",
   "name": "python",
   "nbconvert_exporter": "python",
   "pygments_lexer": "ipython3",
   "version": "3.9.12"
  },
  "toc": {
   "base_numbering": 1,
   "nav_menu": {},
   "number_sections": true,
   "sideBar": true,
   "skip_h1_title": false,
   "title_cell": "Table of Contents",
   "title_sidebar": "Contents",
   "toc_cell": false,
   "toc_position": {},
   "toc_section_display": true,
   "toc_window_display": true
  }
 },
 "nbformat": 4,
 "nbformat_minor": 5
}
