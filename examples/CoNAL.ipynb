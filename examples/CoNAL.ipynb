{
 "cells": [
  {
   "cell_type": "markdown",
   "id": "human-coordinator",
   "metadata": {},
   "source": [
    "# CoNAL (Common Noise Adaptation Layer) and CrowdLayer"
   ]
  },
  {
   "cell_type": "code",
   "execution_count": 1,
   "id": "cutting-hardware",
   "metadata": {},
   "outputs": [],
   "source": [
    "import numpy as np\n",
    "from pathlib import Path"
   ]
  },
  {
   "cell_type": "code",
   "execution_count": 2,
   "id": "liberal-drunk",
   "metadata": {},
   "outputs": [
    {
     "name": "stdout",
     "output_type": "stream",
     "text": [
      "/home/tlefort/Documents/peerannot/peerannot/datasets/labelme\n"
     ]
    }
   ],
   "source": [
    "DIR = Path().cwd()\n",
    "DIRlabelme = (DIR / \"..\" / \"datasets\" / \"labelme\").resolve()\n",
    "DIR_module = DIRlabelme / \"labelme.py\"\n",
    "DIR_answers = DIRlabelme / \"answers.json\"\n",
    "print(DIRlabelme)"
   ]
  },
  {
   "cell_type": "markdown",
   "id": "heard-tower",
   "metadata": {},
   "source": [
    "# Running CoNAL CLI"
   ]
  },
  {
   "cell_type": "code",
   "execution_count": 3,
   "id": "potential-junction",
   "metadata": {},
   "outputs": [
    {
     "name": "stdout",
     "output_type": "stream",
     "text": [
      "Usage: peerannot aggregate-deep [OPTIONS] [DATASET]\r\n",
      "\r\n",
      "  Crowdsourcing strategy using deep learning models\r\n",
      "\r\n",
      "Options:\r\n",
      "  -K, --n-classes INTEGER   Number of classes to separate\r\n",
      "  -o, --output-name TEXT    Name of the generated results file\r\n",
      "  -s, --strategy TEXT       Deep learning strategy\r\n",
      "  --model TEXT              Neural network to train on\r\n",
      "  --answers PATH            Crowdsourced labels in json file\r\n",
      "  --img-size INTEGER        Size of image (square)\r\n",
      "  --pretrained              Use torch available weights to initialize the\r\n",
      "                            network  [default: False]\r\n",
      "  --n-epochs INTEGER        Number of training epochs\r\n",
      "  --lr FLOAT                Learning rate\r\n",
      "  --momentum FLOAT          Momentum for the optimizer\r\n",
      "  --decay FLOAT             Weight decay for the optimizer\r\n",
      "  --scheduler               Use a multistep scheduler for the learning rate\r\n",
      "                            [default: False]\r\n",
      "  -m, --milestones INTEGER  Milestones for the learning rate decay scheduler\r\n",
      "  --n-params INTEGER        Number of parameters for the logistic regression\r\n",
      "                            only\r\n",
      "  --lr-decay FLOAT          Learning rate decay for the scheduler\r\n",
      "  --num-workers INTEGER     Number of workers\r\n",
      "  --batch-size INTEGER      Batch size\r\n",
      "  -optim, --optimizer TEXT  Optimizer for the neural network\r\n",
      "  --data-augmentation       Perform data augmentation on training set with a\r\n",
      "                            random choice between RandomAffine(shear=15),\r\n",
      "                            RandomHorizontalFlip(0.5) and RandomResizedCrop\r\n",
      "                            [default: False]\r\n",
      "  --path-remove PATH        Path to file of index to prune from the training\r\n",
      "                            set\r\n",
      "  --metadata_path PATH      Path to the metadata of the dataset if different\r\n",
      "                            than default\r\n",
      "  --freeze                  Freeze all layers of the network except for the\r\n",
      "                            last one  [default: False]\r\n",
      "  -h, --help                Show this message and exit.\r\n"
     ]
    }
   ],
   "source": [
    "! peerannot aggregate-deep -h"
   ]
  },
  {
   "cell_type": "markdown",
   "id": "electric-organization",
   "metadata": {},
   "source": [
    "The following command is an example on how to train CoNAL on labelme, but it is not advised to fully train the network here (long and costly)"
   ]
  },
  {
   "cell_type": "markdown",
   "id": "hairy-mixer",
   "metadata": {
    "scrolled": false
   },
   "source": [
    "```bash\n",
    "! peerannot aggregate-deep $DIRlabelme -o labelme_conal --answers $DIR_answers -s conal[scale=1e-5] \\\n",
    "    --model modellabelme --img-size=224 --pretrained --n-classes=8 \\\n",
    "    --n-epochs=1000 --lr=5e-3 --optimizer=adam \\\n",
    "    --batch-size=32 --num-workers=8 --data-augmentation\n",
    "```"
   ]
  },
  {
   "cell_type": "markdown",
   "id": "smoking-litigation",
   "metadata": {},
   "source": [
    "# Loading trained CoNAL"
   ]
  },
  {
   "cell_type": "code",
   "execution_count": null,
   "id": "federal-technician",
   "metadata": {},
   "outputs": [],
   "source": [
    "import torch\n",
    "from peerannot.models.CoNAL import CoNAL_net\n",
    "from peerannot.helpers.networks import networks\n",
    "clf = networks(\"modellabelme\", n_classes=8)"
   ]
  },
  {
   "cell_type": "code",
   "execution_count": null,
   "id": "sorted-psychiatry",
   "metadata": {},
   "outputs": [],
   "source": [
    "checkpoint = torch.load(DIRlabelme / \"best_models\" / \"labelme_conal.pth\")\n",
    "conal_our = CoNAL_net(input_dim=int(224 * 3 * 224),\n",
    "                  n_class=8,\n",
    "                  n_annotator=59,\n",
    "                  classifier=clf,\n",
    "                  annotator_dim=59,\n",
    "                  embedding_dim=20)\n",
    "conal_our.classifier.load_state_dict(checkpoint[\"classifier\"])\n",
    "conal_our.auxiliary_network.load_state_dict(checkpoint[\"auxiliary\"])\n",
    "conal_our.noise_adaptation_layer.load_state_dict(checkpoint[\"noise_adaptation\"])"
   ]
  },
  {
   "cell_type": "markdown",
   "id": "understood-enforcement",
   "metadata": {},
   "source": [
    "# Majority vote and load dataset"
   ]
  },
  {
   "cell_type": "code",
   "execution_count": null,
   "id": "straight-sound",
   "metadata": {},
   "outputs": [],
   "source": [
    "! peerannot aggregate $DIRlabelme -s MV"
   ]
  },
  {
   "cell_type": "code",
   "execution_count": null,
   "id": "rational-branch",
   "metadata": {},
   "outputs": [],
   "source": [
    "from peerannot.runners.train import load_all_data\n",
    "labels_path = DIRlabelme / \"labels\" / \"labels_labelme_mv.npy\"\n",
    "trainset, valset, testset = load_all_data(\n",
    "    DIRlabelme, labels_path, path_remove=None, labels=labels_path, img_size=224, data_augmentation=False)"
   ]
  },
  {
   "cell_type": "markdown",
   "id": "incoming-uruguay",
   "metadata": {},
   "source": [
    "# Visualize confusion matrices with CoNAL"
   ]
  },
  {
   "cell_type": "code",
   "execution_count": null,
   "id": "welsh-spread",
   "metadata": {},
   "outputs": [],
   "source": [
    "from torchvision import datasets\n",
    "dataset = datasets.ImageFolder(DIRlabelme / \"train\")\n",
    "classes = dataset.class_to_idx"
   ]
  },
  {
   "cell_type": "code",
   "execution_count": null,
   "id": "informative-tobago",
   "metadata": {},
   "outputs": [],
   "source": [
    "import matplotlib.pyplot as plt"
   ]
  },
  {
   "cell_type": "code",
   "execution_count": null,
   "id": "adjusted-oxygen",
   "metadata": {},
   "outputs": [],
   "source": [
    "conf_local_our = conal_our.noise_adaptation_layer.local_confusion_matrices.detach(\n",
    ").numpy()  # Confusion matrices of each annotator\n",
    "conf_global_our = conal_our.noise_adaptation_layer.global_confusion_matrix.detach(\n",
    ").numpy()  # Confusion matrix of common noise"
   ]
  },
  {
   "cell_type": "code",
   "execution_count": null,
   "id": "sunrise-ivory",
   "metadata": {},
   "outputs": [],
   "source": [
    "list(classes.keys())"
   ]
  },
  {
   "cell_type": "code",
   "execution_count": null,
   "id": "heavy-anthony",
   "metadata": {},
   "outputs": [],
   "source": [
    "fig, axs = plt.subplots(1, 2, figsize=(10, 5))\n",
    "axs[0].imshow(conf_global_our, cmap=\"hot\")\n",
    "axs[0].set_title(\"Global weights learned\")\n",
    "axs[0].xaxis.set_ticks(range(8))\n",
    "axs[0].xaxis.set_ticklabels( list(classes.keys()), rotation=45)\n",
    "axs[0].yaxis.set_ticks(range(8))\n",
    "axs[0].yaxis.set_ticklabels( list(classes.keys()), rotation=0)\n",
    "\n",
    "axs[1].imshow(conf_local_our[0], cmap=\"hot\")\n",
    "axs[1].set_title(\"Weights worker 0\")\n",
    "axs[1].xaxis.set_ticks(range(8))\n",
    "axs[1].xaxis.set_ticklabels( list(classes.keys()), rotation=45)\n",
    "axs[1].yaxis.set_ticks([0])\n",
    "axs[1].yaxis.set_ticklabels(\"\")\n",
    "fig.suptitle(\"Our\")\n",
    "plt.show()"
   ]
  },
  {
   "cell_type": "markdown",
   "id": "decent-dinner",
   "metadata": {},
   "source": [
    "# Crowdlayer"
   ]
  },
  {
   "cell_type": "code",
   "execution_count": null,
   "id": "occupied-lease",
   "metadata": {},
   "outputs": [],
   "source": [
    "! peerannot agginfo"
   ]
  },
  {
   "cell_type": "code",
   "execution_count": 5,
   "id": "becoming-semester",
   "metadata": {
    "scrolled": false
   },
   "outputs": [
    {
     "name": "stdout",
     "output_type": "stream",
     "text": [
      "Running the following configuration:\n",
      "----------\n",
      "- Data at /home/tlefort/Documents/peerannot/peerannot/datasets/labelme will be saved with prefix labelme_crowdlayer\n",
      "- number of classes: 8\n",
      "- output_name: labelme_crowdlayer\n",
      "- answers: /home/tlefort/Documents/peerannot/peerannot/datasets/labelme/answers.json\n",
      "- strategy: CrowdLayer\n",
      "- model: resnet18\n",
      "- img_size: 224\n",
      "- pretrained: True\n",
      "- n_classes: 8\n",
      "- n_epochs: 100\n",
      "- lr: 0.005\n",
      "- milestones: (1000, 1050)\n",
      "- scheduler: True\n",
      "- batch_size: 64\n",
      "- optimizer: adam\n",
      "- num_workers: 8\n",
      "- data_augmentation: True\n",
      "- dataset: /home/tlefort/Documents/peerannot/peerannot/datasets/labelme\n",
      "- momentum: 0.9\n",
      "- decay: 0.0005\n",
      "- n_params: 3072\n",
      "- lr_decay: 0.1\n",
      "- path_remove: None\n",
      "- metadata_path: None\n",
      "----------\n",
      "Loading datasets\n",
      "Using cache found in /home/tlefort/.cache/torch/hub/pytorch_vision_main\n",
      "Using cache found in /home/tlefort/.cache/torch/hub/pytorch_vision_main\n",
      "Using cache found in /home/tlefort/.cache/torch/hub/pytorch_vision_main\n",
      "Successfully loaded resnet18 with n_classes=8\n",
      "Train set: 2547 tasks\n",
      "Test set: 1188 tasks\n",
      "Validation set: 500 tasks\n",
      "Training epoch:   1%|▎                          | 1/100 [00:21<35:13, 21.35s/it]^C\n",
      "Training epoch:   1%|▎                        | 1/100 [00:38<1:03:37, 38.56s/it]\n",
      "\n",
      "Aborted!\n"
     ]
    }
   ],
   "source": [
    "! peerannot aggregate-deep {DIRlabelme} -o labelme_crowdlayer --answers {DIR_answers} -s CrowdLayer \\\n",
    "    --model resnet18 --img-size=224 --pretrained --n-classes=8 \\\n",
    "    --n-epochs=100 --lr=0.005 -m 1000 -m 1050 --scheduler \\\n",
    "    --batch-size=64 --optimizer=adam --num-workers=8 --data-augmentation"
   ]
  },
  {
   "cell_type": "markdown",
   "id": "activated-arbor",
   "metadata": {},
   "source": [
    "# On CIFAR-10H"
   ]
  },
  {
   "cell_type": "code",
   "execution_count": 4,
   "id": "attached-alloy",
   "metadata": {},
   "outputs": [
    {
     "name": "stdout",
     "output_type": "stream",
     "text": [
      "/home/tlefort/Documents/peerannot/peerannot/datasets/cifar10H\n"
     ]
    }
   ],
   "source": [
    "DIR = Path().cwd()\n",
    "DIRc10H = (DIR / \"..\" / \"datasets\" / \"cifar10H\" ).resolve()\n",
    "DIR_module = DIRc10H / \"cifar10h.py\"\n",
    "DIR_answers = DIRc10H / \"answers.json\"\n",
    "print(DIRc10H)"
   ]
  },
  {
   "cell_type": "code",
   "execution_count": 5,
   "id": "super-consciousness",
   "metadata": {
    "scrolled": true
   },
   "outputs": [
    {
     "name": "stdout",
     "output_type": "stream",
     "text": [
      "Running the following configuration:\n",
      "----------\n",
      "- Data at /home/tlefort/Documents/peerannot/peerannot/datasets/cifar10H will be saved with prefix cifar10h_CoNAL[scale=0]_1\n",
      "- number of classes: 10\n",
      "- output_name: cifar10h_CoNAL[scale=0]_1\n",
      "- answers: /home/tlefort/Documents/peerannot/peerannot/datasets/cifar10H/answers.json\n",
      "- model: resnet18\n",
      "- n_classes: 10\n",
      "- n_epochs: 500\n",
      "- lr: 0.1\n",
      "- optimizer: sgd\n",
      "- batch_size: 64\n",
      "- num_workers: 8\n",
      "- img_size: 32\n",
      "- strategy: CoNAL[scale=0]\n",
      "- scheduler: True\n",
      "- milestones: (250, 400)\n",
      "- dataset: /home/tlefort/Documents/peerannot/peerannot/datasets/cifar10H\n",
      "- pretrained: False\n",
      "- momentum: 0.9\n",
      "- decay: 0.0005\n",
      "- n_params: 3072\n",
      "- lr_decay: 0.1\n",
      "- data_augmentation: False\n",
      "- path_remove: None\n",
      "- metadata_path: None\n",
      "- freeze: False\n",
      "----------\n",
      "Loading datasets\n",
      "Using cache found in /home/tlefort/.cache/torch/hub/pytorch_vision_main\n",
      "Using cache found in /home/tlefort/.cache/torch/hub/pytorch_vision_main\n",
      "Using cache found in /home/tlefort/.cache/torch/hub/pytorch_vision_main\n",
      "Successfully loaded resnet18 with n_classes=10\n",
      "Removing initial downsampling\n",
      "Train set: 9500 tasks\n",
      "Test set: 50000 tasks\n",
      "Validation set: 500 tasks\n",
      "Training epoch:   0%|                        | 1/500 [01:16<10:38:59, 76.83s/it]^C\n"
     ]
    }
   ],
   "source": [
    "!peerannot aggregate-deep \"/home/tlefort/Documents/peerannot/peerannot/datasets/cifar10H\" \\\n",
    "            -o cifar10h_CoNAL[scale=0]_1 \\\n",
    "            --answers=$DIR_answers --model=resnet18 --n-classes=10 --n-epochs 500 \\\n",
    "            --lr 0.1 --optimizer sgd --batch-size 64 --num-workers 8 --img-size=32 \\\n",
    "            --strategy=CoNAL[scale=0] --scheduler -m 250 -m 400"
   ]
  },
  {
   "cell_type": "markdown",
   "id": "martial-montreal",
   "metadata": {},
   "source": [
    "# WAUM identification"
   ]
  },
  {
   "cell_type": "code",
   "execution_count": 61,
   "id": "regulated-desperate",
   "metadata": {},
   "outputs": [
    {
     "name": "stdout",
     "output_type": "stream",
     "text": [
      "Running the following configuration:\n",
      "----------\n",
      "- Data at /home/tlefort/Documents/peerannot/peerannot/datasets/cifar10H\n",
      "- number of classes: 10\n",
      "- labels: /home/tlefort/Documents/peerannot/peerannot/datasets/cifar10H/answers.json\n",
      "- model: resnet18\n",
      "- n_epochs: 2\n",
      "- lr: 0.1\n",
      "- img_size: 4\n",
      "- maxiter_ds: 10\n",
      "- alpha: 0.01\n",
      "- use_pleiss: False\n",
      "- n_params: 3072\n",
      "- pretrained: False\n",
      "- momentum: 0.9\n",
      "- metadata_path: None\n",
      "- decay: 0.0005\n",
      "- optimizer: SGD\n",
      "- data_augmentation: False\n",
      "----------\n",
      "Train set: 488448 tasks\n",
      "Using cache found in /home/tlefort/.cache/torch/hub/pytorch_vision_main\n",
      "Using cache found in /home/tlefort/.cache/torch/hub/pytorch_vision_main\n",
      "Using cache found in /home/tlefort/.cache/torch/hub/pytorch_vision_main\n",
      "Successfully loaded resnet18 with n_classes=10\n",
      "Removing initial downsampling\n",
      "Running identification with method: WAUMstacked\n",
      "Finished:  50%|█████████████████                 | 5/10 [03:16<03:16, 39.24s/it]\n",
      "epoch: 100%|█████████████████████████████████████| 2/2 [10:01<00:00, 300.94s/it]\n",
      "Scores: 100%|█████████████████████████████| 9500/9500 [1:06:15<00:00,  2.39it/s]\n",
      "computing WAUM:   0%|                                  | 0/9500 [00:00<?, ?it/s]\n",
      "Traceback (most recent call last):\n",
      "  File \"/home/tlefort/condaenvs/phd/bin/peerannot\", line 33, in <module>\n",
      "    sys.exit(load_entry_point('PeerAnnot', 'console_scripts', 'peerannot')())\n",
      "  File \"/home/tlefort/condaenvs/phd/lib/python3.9/site-packages/click/core.py\", line 1134, in __call__\n",
      "    return self.main(*args, **kwargs)\n",
      "  File \"/home/tlefort/condaenvs/phd/lib/python3.9/site-packages/click/core.py\", line 1059, in main\n",
      "    rv = self.invoke(ctx)\n",
      "  File \"/home/tlefort/condaenvs/phd/lib/python3.9/site-packages/click/core.py\", line 1665, in invoke\n",
      "    return _process_result(sub_ctx.command.invoke(sub_ctx))\n",
      "  File \"/home/tlefort/condaenvs/phd/lib/python3.9/site-packages/click/core.py\", line 1401, in invoke\n",
      "    return ctx.invoke(self.callback, **ctx.params)\n",
      "  File \"/home/tlefort/condaenvs/phd/lib/python3.9/site-packages/click/core.py\", line 767, in invoke\n",
      "    return __callback(*args, **kwargs)\n",
      "  File \"/home/tlefort/Documents/peerannot/peerannot/peerannot/runners/identify.py\", line 338, in identify\n",
      "    waum.run(alpha=kwargs[\"alpha\"])\n",
      "  File \"/home/tlefort/Documents/peerannot/peerannot/peerannot/models/WAUM_stacked.py\", line 379, in run\n",
      "    self.get_psi5_waum()\n",
      "  File \"/home/tlefort/Documents/peerannot/peerannot/peerannot/models/WAUM_stacked.py\", line 348, in get_psi5_waum\n",
      "    dico_cpt_aum[\"index\"].extend(each_task)\n",
      "TypeError: 'numpy.int64' object is not iterable\n"
     ]
    }
   ],
   "source": [
    "!peerannot identify $DIRc10H -K 10 --method WAUM \\\n",
    "                    --labels $DIR_answers --model resnet18 \\\n",
    "                    --n-epochs 200 --lr=0.1 --img-size=4 --maxiter-DS=100 --alpha=0.01"
   ]
  },
  {
   "cell_type": "markdown",
   "id": "technical-there",
   "metadata": {},
   "source": [
    "# AUM identification"
   ]
  },
  {
   "cell_type": "code",
   "execution_count": 59,
   "id": "bottom-convert",
   "metadata": {},
   "outputs": [
    {
     "name": "stdout",
     "output_type": "stream",
     "text": [
      "Running the following configuration:\n",
      "----------\n",
      "- Data at /home/tlefort/Documents/peerannot/peerannot/datasets/cifar10H\n",
      "- number of classes: 10\n",
      "- model: resnet18\n",
      "- n_epochs: 2\n",
      "- lr: 0.1\n",
      "- img_size: 32\n",
      "- labels: /home/tlefort/Documents/peerannot/peerannot/examples/answers.json\n",
      "- use_pleiss: False\n",
      "- alpha: 0.01\n",
      "- n_params: 3072\n",
      "- pretrained: False\n",
      "- momentum: 0.9\n",
      "- metadata_path: None\n",
      "- decay: 0.0005\n",
      "- maxiter_ds: 50\n",
      "- optimizer: SGD\n",
      "- data_augmentation: False\n",
      "----------\n",
      "Train set: 9500 tasks\n",
      "Using cache found in /home/tlefort/.cache/torch/hub/pytorch_vision_main\n",
      "Using cache found in /home/tlefort/.cache/torch/hub/pytorch_vision_main\n",
      "Using cache found in /home/tlefort/.cache/torch/hub/pytorch_vision_main\n",
      "Successfully loaded resnet18 with n_classes=10\n",
      "Removing initial downsampling\n",
      "Running identification with method: AUM\n",
      "['bird-1038.png' 'bird-1039.png' 'bird-1043.png' ... 'truck-970.png'\n",
      " 'truck-979.png' 'truck-981.png'] (9500,)\n",
      "Saved full log at /home/tlefort/Documents/peerannot/peerannot/datasets/cifar10H/identification/aum/full_aum_records.csv\n",
      "Saved AUM values at /home/tlefort/Documents/peerannot/peerannot/datasets/cifar10H/identification/aum/aum_values.csv\n"
     ]
    }
   ],
   "source": [
    "!peerannot identify $DIRc10H -K 10 --method AUM \\\n",
    "                    --model resnet18 \\\n",
    "                    --n-epochs 200 --lr=0.1 --img-size=32"
   ]
  },
  {
   "cell_type": "code",
   "execution_count": null,
   "id": "clinical-latter",
   "metadata": {},
   "outputs": [],
   "source": []
  }
 ],
 "metadata": {
  "kernelspec": {
   "display_name": "Python 3.9.12",
   "language": "python",
   "name": "python3"
  },
  "language_info": {
   "codemirror_mode": {
    "name": "ipython",
    "version": 3
   },
   "file_extension": ".py",
   "mimetype": "text/x-python",
   "name": "python",
   "nbconvert_exporter": "python",
   "pygments_lexer": "ipython3",
   "version": "3.9.12"
  },
  "toc": {
   "base_numbering": 1,
   "nav_menu": {},
   "number_sections": true,
   "sideBar": true,
   "skip_h1_title": false,
   "title_cell": "Table of Contents",
   "title_sidebar": "Contents",
   "toc_cell": false,
   "toc_position": {},
   "toc_section_display": true,
   "toc_window_display": true
  },
  "vscode": {
   "interpreter": {
    "hash": "07c96609e46ccdb9c23f842c8106f62d16181cd16ba0c044624e05dd839a69e0"
   }
  }
 },
 "nbformat": 4,
 "nbformat_minor": 5
}
