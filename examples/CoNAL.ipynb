{
 "cells": [
  {
   "cell_type": "markdown",
   "id": "human-coordinator",
   "metadata": {},
   "source": [
    "# Deep aggregation with CoNAL (Common Noise Adaptation Layer)"
   ]
  },
  {
   "cell_type": "code",
   "execution_count": 1,
   "id": "cutting-hardware",
   "metadata": {},
   "outputs": [],
   "source": [
    "import numpy as np\n",
    "from pathlib import Path"
   ]
  },
  {
   "cell_type": "code",
   "execution_count": 2,
   "id": "liberal-drunk",
   "metadata": {},
   "outputs": [
    {
     "name": "stdout",
     "output_type": "stream",
     "text": [
      "/home/tlefort/Documents/peerannot/peerannot/datasets/labelme\n"
     ]
    }
   ],
   "source": [
    "DIR = Path().cwd()\n",
    "DIRlabelme = (DIR / \"..\" / \"datasets\" / \"labelme\").resolve()\n",
    "DIR_module = DIRlabelme / \"labelme.py\"\n",
    "DIR_answers = DIRlabelme / \"answers.json\"\n",
    "print(DIRlabelme)"
   ]
  },
  {
   "cell_type": "markdown",
   "id": "heard-tower",
   "metadata": {},
   "source": [
    "# Running CoNAL CLI"
   ]
  },
  {
   "cell_type": "code",
   "execution_count": 3,
   "id": "potential-junction",
   "metadata": {},
   "outputs": [
    {
     "name": "stdout",
     "output_type": "stream",
     "text": [
      "Usage: peerannot aggregate-deep [OPTIONS] [DATASET]\r\n",
      "\r\n",
      "  Crowdsourcing strategy using deep learning models\r\n",
      "\r\n",
      "Options:\r\n",
      "  -K, --n-classes INTEGER   Number of classes to separate\r\n",
      "  -o, --output-name TEXT    Name of the generated results file\r\n",
      "  -s, --strategy TEXT       Deep learning strategy\r\n",
      "  --model TEXT              Neural network to train on\r\n",
      "  --answers PATH            Crowdsourced labels in json file\r\n",
      "  --img-size INTEGER        Size of image (square)\r\n",
      "  --pretrained              Use torch available weights to initialize the\r\n",
      "                            network  [default: False]\r\n",
      "  --n-epochs INTEGER        Number of training epochs\r\n",
      "  --lr FLOAT                Learning rate\r\n",
      "  --momentum FLOAT          Momentum for the optimizer\r\n",
      "  --decay FLOAT             Weight decay for the optimizer\r\n",
      "  --scheduler               Use a multistep scheduler for the learning rate\r\n",
      "                            [default: False]\r\n",
      "  -m, --milestones INTEGER  Milestones for the learning rate decay scheduler\r\n",
      "  --n-params INTEGER        Number of parameters for the logistic regression\r\n",
      "                            only\r\n",
      "  --lr-decay FLOAT          Learning rate decay for the scheduler\r\n",
      "  --num-workers INTEGER     Number of workers\r\n",
      "  --batch-size INTEGER      Batch size\r\n",
      "  -optim, --optimizer TEXT  Optimizer for the neural network\r\n",
      "  --data-augmentation       Perform data augmentation on training set with a\r\n",
      "                            random choice between RandomAffine(shear=15),\r\n",
      "                            RandomHorizontalFlip(0.5) and RandomResizedCrop\r\n",
      "                            [default: False]\r\n",
      "  -h, --help                Show this message and exit.\r\n"
     ]
    }
   ],
   "source": [
    "! peerannot aggregate-deep -h"
   ]
  },
  {
   "cell_type": "markdown",
   "id": "electric-organization",
   "metadata": {},
   "source": [
    "The following command is an example on how to train CoNAL on labelme, but it is not advised to fully train the network here (long and costly)"
   ]
  },
  {
   "cell_type": "markdown",
   "id": "above-prize",
   "metadata": {
    "scrolled": false
   },
   "source": [
    "```bash\n",
    "! peerannot aggregate-deep $DIRlabelme -o labelme_conal --answers $DIR_answers -s conal[scale=1e-5] \\\n",
    "    --model modellabelme --img-size=224 --pretrained --n-classes=8 \\\n",
    "    --n-epochs=1000 --lr=5e-3 --optimizer=adam \\\n",
    "    --batch-size=32 --num-workers=8 --data-augmentation\n",
    "```"
   ]
  },
  {
   "cell_type": "markdown",
   "id": "smoking-litigation",
   "metadata": {},
   "source": [
    "# Loading trained CoNAL"
   ]
  },
  {
   "cell_type": "code",
   "execution_count": 4,
   "id": "federal-technician",
   "metadata": {},
   "outputs": [
    {
     "name": "stderr",
     "output_type": "stream",
     "text": [
      "Using cache found in /home/tlefort/.cache/torch/hub/pytorch_vision_main\n"
     ]
    },
    {
     "name": "stdout",
     "output_type": "stream",
     "text": [
      "Successfully loaded modellabelme with n_classes=8\n"
     ]
    }
   ],
   "source": [
    "import torch\n",
    "from peerannot.models.CoNAL import CoNAL_net\n",
    "from peerannot.helpers.networks import networks\n",
    "clf = networks(\"modellabelme\", n_classes=8)"
   ]
  },
  {
   "cell_type": "code",
   "execution_count": 5,
   "id": "harmful-cooking",
   "metadata": {},
   "outputs": [
    {
     "data": {
      "text/plain": [
       "<All keys matched successfully>"
      ]
     },
     "execution_count": 5,
     "metadata": {},
     "output_type": "execute_result"
    }
   ],
   "source": [
    "checkpoint = torch.load(DIRlabelme / \"best_models\" / \"labelme_conal.pth\")\n",
    "conal_our = CoNAL_net(input_dim=int(224 * 3 * 224),\n",
    "                  n_class=8,\n",
    "                  n_annotator=59,\n",
    "                  classifier=clf,\n",
    "                  annotator_dim=59,\n",
    "                  embedding_dim=20)\n",
    "conal_our.classifier.load_state_dict(checkpoint[\"classifier\"])\n",
    "conal_our.auxiliary_network.load_state_dict(checkpoint[\"auxiliary\"])\n",
    "conal_our.noise_adaptation_layer.load_state_dict(checkpoint[\"noise_adaptation\"])"
   ]
  },
  {
   "cell_type": "markdown",
   "id": "detailed-infrared",
   "metadata": {},
   "source": [
    "# Majority vote and load dataset"
   ]
  },
  {
   "cell_type": "code",
   "execution_count": null,
   "id": "precious-seattle",
   "metadata": {},
   "outputs": [],
   "source": []
  },
  {
   "cell_type": "code",
   "execution_count": null,
   "id": "opening-milton",
   "metadata": {},
   "outputs": [],
   "source": [
    "from peerannot.runners.train import load_all_data\n",
    "labels_path = DIRlabelme / \"labels\" / \"labels_labelme_mv.npy\"\n",
    "trainset, valset, testset = load_all_data(\n",
    "    DIRmusic, labels_path, path_remove=None, labels=labels_path, img_size=224, data_augmentation=False)"
   ]
  },
  {
   "cell_type": "markdown",
   "id": "incoming-uruguay",
   "metadata": {},
   "source": [
    "# Visualize confusion matrices with CoNAL"
   ]
  },
  {
   "cell_type": "code",
   "execution_count": 6,
   "id": "abroad-compensation",
   "metadata": {},
   "outputs": [],
   "source": [
    "from torchvision import datasets\n",
    "dataset = datasets.ImageFolder(DIRlabelme / \"train\")\n",
    "classes = dataset.class_to_idx"
   ]
  },
  {
   "cell_type": "markdown",
   "id": "positive-pathology",
   "metadata": {},
   "source": [
    "Keep in mind that the class numbers"
   ]
  },
  {
   "cell_type": "code",
   "execution_count": 7,
   "id": "informative-tobago",
   "metadata": {},
   "outputs": [],
   "source": [
    "import matplotlib.pyplot as plt"
   ]
  },
  {
   "cell_type": "code",
   "execution_count": 8,
   "id": "enhanced-nirvana",
   "metadata": {},
   "outputs": [],
   "source": [
    "conf_local_our = conal_our.noise_adaptation_layer.local_confusion_matrices.detach(\n",
    ").numpy()  # Confusion matrices of each annotator\n",
    "conf_global_our = conal_our.noise_adaptation_layer.global_confusion_matrix.detach(\n",
    ").numpy()  # Confusion matrix of common noise"
   ]
  },
  {
   "cell_type": "code",
   "execution_count": 9,
   "id": "coordinated-slovak",
   "metadata": {},
   "outputs": [
    {
     "data": {
      "text/plain": [
       "['coast',\n",
       " 'forest',\n",
       " 'highway',\n",
       " 'insidecity',\n",
       " 'mountain',\n",
       " 'opencountry',\n",
       " 'street',\n",
       " 'tallbuilding']"
      ]
     },
     "execution_count": 9,
     "metadata": {},
     "output_type": "execute_result"
    }
   ],
   "source": [
    "list(classes.keys())"
   ]
  },
  {
   "cell_type": "code",
   "execution_count": 10,
   "id": "declared-wright",
   "metadata": {},
   "outputs": [
    {
     "data": {
      "image/png": "[encoded data removed]",
      "text/plain": [
       "<Figure size 720x360 with 2 Axes>"
      ]
     },
     "metadata": {
      "needs_background": "light"
     },
     "output_type": "display_data"
    }
   ],
   "source": [
    "fig, axs = plt.subplots(1, 2, figsize=(10, 5))\n",
    "axs[0].imshow(conf_global_our, cmap=\"hot\")\n",
    "axs[0].set_title(\"Global weights learned\")\n",
    "axs[0].xaxis.set_ticks(range(8))\n",
    "axs[0].xaxis.set_ticklabels( list(classes.keys()), rotation=45)\n",
    "axs[0].yaxis.set_ticks(range(8))\n",
    "axs[0].yaxis.set_ticklabels( list(classes.keys()), rotation=0)\n",
    "\n",
    "axs[1].imshow(conf_local_our[0], cmap=\"hot\")\n",
    "axs[1].set_title(\"Weights worker 0\")\n",
    "axs[1].xaxis.set_ticks(range(8))\n",
    "axs[1].xaxis.set_ticklabels( list(classes.keys()), rotation=45)\n",
    "axs[1].yaxis.set_ticks([0])\n",
    "axs[1].yaxis.set_ticklabels(\"\")\n",
    "fig.suptitle(\"Our\")\n",
    "plt.show()"
   ]
  }
 ],
 "metadata": {
  "kernelspec": {
   "display_name": "Python 3",
   "language": "python",
   "name": "python3"
  },
  "language_info": {
   "codemirror_mode": {
    "name": "ipython",
    "version": 3
   },
   "file_extension": ".py",
   "mimetype": "text/x-python",
   "name": "python",
   "nbconvert_exporter": "python",
   "pygments_lexer": "ipython3",
   "version": "3.9.12"
  },
  "toc": {
   "base_numbering": 1,
   "nav_menu": {},
   "number_sections": true,
   "sideBar": true,
   "skip_h1_title": false,
   "title_cell": "Table of Contents",
   "title_sidebar": "Contents",
   "toc_cell": false,
   "toc_position": {},
   "toc_section_display": true,
   "toc_window_display": true
  }
 },
 "nbformat": 4,
 "nbformat_minor": 5
}
