{
 "cells": [
  {
   "cell_type": "markdown",
   "id": "tracked-dialogue",
   "metadata": {},
   "source": [
    "# Tutorial loading and exploring LabelMe dataset"
   ]
  },
  {
   "cell_type": "markdown",
   "id": "photographic-console",
   "metadata": {},
   "source": [
    "## Basic imports"
   ]
  },
  {
   "cell_type": "code",
   "execution_count": 1,
   "id": "controlled-determination",
   "metadata": {},
   "outputs": [],
   "source": [
    "import numpy as np\n",
    "from pathlib import Path"
   ]
  },
  {
   "cell_type": "code",
   "execution_count": 2,
   "id": "placed-springer",
   "metadata": {},
   "outputs": [
    {
     "name": "stdout",
     "output_type": "stream",
     "text": [
      "/home/tlefort/Documents/peerannot/peerannot/datasets/labelme\n"
     ]
    }
   ],
   "source": [
    "DIR = Path().cwd()\n",
    "DIRlabelme = (DIR / \"..\" / \"datasets\" / \"labelme\").resolve()\n",
    "DIR_module = DIRlabelme / \"labelme.py\"\n",
    "print(DIRlabelme)"
   ]
  },
  {
   "cell_type": "markdown",
   "id": "current-stevens",
   "metadata": {},
   "source": [
    "## Install dataset"
   ]
  },
  {
   "cell_type": "code",
   "execution_count": 3,
   "id": "affecting-clark",
   "metadata": {},
   "outputs": [
    {
     "name": "stdout",
     "output_type": "stream",
     "text": [
      "Replace is False and data exists, so doing nothing. Use replace=True to re-download the data.\n",
      "Loading data folders at /home/tlefort/Documents/peerannot/peerannot/datasets/labelme\n",
      "Created:\n",
      "- train: /home/tlefort/Documents/peerannot/peerannot/datasets/labelme/train\n",
      "- val: /home/tlefort/Documents/peerannot/peerannot/datasets/labelme/val\n",
      "- test: /home/tlefort/Documents/peerannot/peerannot/datasets/labelme/test\n",
      "Traceback (most recent call last):\n",
      "  File \"/home/tlefort/condaenvs/phd/bin/peerannot\", line 33, in <module>\n",
      "    sys.exit(load_entry_point('PeerAnnot', 'console_scripts', 'peerannot')())\n",
      "  File \"/home/tlefort/condaenvs/phd/lib/python3.9/site-packages/click/core.py\", line 1134, in __call__\n",
      "    return self.main(*args, **kwargs)\n",
      "  File \"/home/tlefort/condaenvs/phd/lib/python3.9/site-packages/click/core.py\", line 1059, in main\n",
      "    rv = self.invoke(ctx)\n",
      "  File \"/home/tlefort/condaenvs/phd/lib/python3.9/site-packages/click/core.py\", line 1665, in invoke\n",
      "    return _process_result(sub_ctx.command.invoke(sub_ctx))\n",
      "  File \"/home/tlefort/condaenvs/phd/lib/python3.9/site-packages/click/core.py\", line 1401, in invoke\n",
      "    return ctx.invoke(self.callback, **ctx.params)\n",
      "  File \"/home/tlefort/condaenvs/phd/lib/python3.9/site-packages/click/core.py\", line 767, in invoke\n",
      "    return __callback(*args, **kwargs)\n",
      "  File \"/home/tlefort/Documents/peerannot/peerannot/peerannot/runners/datasets.py\", line 44, in install\n",
      "    df.setfolders()\n",
      "  File \"/home/tlefort/Documents/peerannot/peerannot/datasets/labelme/labelme.py\", line 50, in setfolders\n",
      "    self.get_crowd_labels()\n",
      "  File \"/home/tlefort/Documents/peerannot/peerannot/datasets/labelme/labelme.py\", line 61, in get_crowd_labels\n",
      "    res_train[self.conv_task[orig_name[id_]]][\n",
      "KeyError: 'street_hexp30.jpg'\n"
     ]
    }
   ],
   "source": [
    "! peerannot install $DIR_module"
   ]
  },
  {
   "cell_type": "markdown",
   "id": "divided-automation",
   "metadata": {},
   "source": [
    "# Majority vote"
   ]
  },
  {
   "cell_type": "code",
   "execution_count": 10,
   "id": "protective-simon",
   "metadata": {},
   "outputs": [
    {
     "name": "stdout",
     "output_type": "stream",
     "text": [
      "Running aggregation mv with options {}\r\n",
      "Aggregated labels stored at /home/tlefort/Documents/peerannot/peerannot/datasets/labelme/labels/labels_labelme_mv.npy with shape (1000,)\r\n"
     ]
    }
   ],
   "source": [
    "! peerannot aggregate $DIRlabelme -s MV"
   ]
  },
  {
   "cell_type": "markdown",
   "id": "balanced-combining",
   "metadata": {},
   "source": [
    "# Naive Soft labelling"
   ]
  },
  {
   "cell_type": "code",
   "execution_count": 12,
   "id": "conventional-diameter",
   "metadata": {},
   "outputs": [
    {
     "name": "stdout",
     "output_type": "stream",
     "text": [
      "Running aggregation naivesoft with options {}\n",
      "Aggregated labels stored at /home/tlefort/Documents/peerannot/peerannot/datasets/labelme/labels/labels_labelme_naivesoft.npy with shape (1000, 8)\n"
     ]
    }
   ],
   "source": [
    "! peerannot aggregate $DIRlabelme -s NaiveSoft"
   ]
  },
  {
   "cell_type": "markdown",
   "id": "earned-geology",
   "metadata": {},
   "source": [
    "# Loading datasets"
   ]
  },
  {
   "cell_type": "markdown",
   "id": "hungry-logging",
   "metadata": {},
   "source": [
    "The majority voting in case of equality of votes returns one of the possible classes with equal probabilities (the naive soft aggregation computes the accuracy on aggregation with a simple `np.argmax` and thus does not sample the equalities).\n",
    "This can lead to small differences in aggregation accuracy in practice."
   ]
  },
  {
   "cell_type": "code",
   "execution_count": 11,
   "id": "fiscal-south",
   "metadata": {},
   "outputs": [
    {
     "name": "stdout",
     "output_type": "stream",
     "text": [
      "Loading datasets\n",
      "Accuracy on aggregation: 76.100%\n"
     ]
    }
   ],
   "source": [
    "from peerannot.runners.train import load_all_data\n",
    "labels_path = DIRlabelme / \"labels\" / \"labels_labelme_mv.npy\"\n",
    "trainset, valset, testset = load_all_data(DIRlabelme, labels_path, path_remove=None, labels=labels_path)"
   ]
  },
  {
   "cell_type": "code",
   "execution_count": 13,
   "id": "palestinian-agent",
   "metadata": {},
   "outputs": [
    {
     "name": "stdout",
     "output_type": "stream",
     "text": [
      "Loading datasets\n",
      "Accuracy on aggregation: 76.900%\n"
     ]
    }
   ],
   "source": [
    "labels_path = DIRlabelme / \"labels\" / \"labels_labelme_naivesoft.npy\"\n",
    "trainset, valset, testset = load_all_data(DIRlabelme, labels_path, path_remove=None, labels=labels_path)"
   ]
  },
  {
   "cell_type": "markdown",
   "id": "compound-trader",
   "metadata": {},
   "source": [
    "# WAUM stacked identification"
   ]
  },
  {
   "cell_type": "code",
   "execution_count": 4,
   "id": "sustained-terminal",
   "metadata": {},
   "outputs": [],
   "source": [
    "path_votes = DIRlabelme / \"answers.json\""
   ]
  },
  {
   "cell_type": "code",
   "execution_count": 5,
   "id": "disabled-throw",
   "metadata": {},
   "outputs": [
    {
     "name": "stdout",
     "output_type": "stream",
     "text": [
      "Running the following configuration:\n",
      "----------\n",
      "- Data at /home/tlefort/Documents/peerannot/peerannot/datasets/labelme\n",
      "- number of classes: 8\n",
      "- labels: /home/tlefort/Documents/peerannot/peerannot/datasets/labelme/answers.json\n",
      "- model: vgg16_bn\n",
      "- n_epochs: 2\n",
      "- lr: 0.1\n",
      "- maxiter_ds: 50\n",
      "- pretrained: True\n",
      "- use_pleiss: False\n",
      "- alpha: 0.01\n",
      "- n_params: 3072\n",
      "- momentum: 0.9\n",
      "- decay: 0.0005\n",
      "- img_size: 224\n",
      "----------\n",
      "Train set: 2547 tasks\n",
      "Using cache found in /home/tlefort/.cache/torch/hub/pytorch_vision_main\n",
      "Using cache found in /home/tlefort/.cache/torch/hub/pytorch_vision_main\n",
      "Using cache found in /home/tlefort/.cache/torch/hub/pytorch_vision_main\n",
      "Successfully loaded vgg16_bn with n_classes=8\n",
      "Running identification with method: WAUMstacked\n",
      "Finished: 100%|█████████████████████████████████| 50/50 [00:07<00:00,  6.56it/s]\n",
      "epoch:   0%|                                              | 0/2 [00:03<?, ?it/s]\n",
      "Traceback (most recent call last):\n",
      "  File \"/home/tlefort/condaenvs/phd/bin/peerannot\", line 33, in <module>\n",
      "    sys.exit(load_entry_point('PeerAnnot', 'console_scripts', 'peerannot')())\n",
      "  File \"/home/tlefort/condaenvs/phd/lib/python3.9/site-packages/click/core.py\", line 1134, in __call__\n",
      "    return self.main(*args, **kwargs)\n",
      "  File \"/home/tlefort/condaenvs/phd/lib/python3.9/site-packages/click/core.py\", line 1059, in main\n",
      "    rv = self.invoke(ctx)\n",
      "  File \"/home/tlefort/condaenvs/phd/lib/python3.9/site-packages/click/core.py\", line 1665, in invoke\n",
      "    return _process_result(sub_ctx.command.invoke(sub_ctx))\n",
      "  File \"/home/tlefort/condaenvs/phd/lib/python3.9/site-packages/click/core.py\", line 1401, in invoke\n",
      "    return ctx.invoke(self.callback, **ctx.params)\n",
      "  File \"/home/tlefort/condaenvs/phd/lib/python3.9/site-packages/click/core.py\", line 767, in invoke\n",
      "    return __callback(*args, **kwargs)\n",
      "  File \"/home/tlefort/Documents/peerannot/peerannot/peerannot/runners/identify.py\", line 283, in identify\n",
      "    waum.run(alpha=kwargs[\"alpha\"])\n",
      "  File \"/home/tlefort/Documents/peerannot/peerannot/peerannot/models/WAUM_stacked.py\", line 356, in run\n",
      "    self.get_aum()\n",
      "  File \"/home/tlefort/Documents/peerannot/peerannot/peerannot/models/WAUM_stacked.py\", line 174, in get_aum\n",
      "    len_, out, y, ww, dd, idx = self.make_step(batch)\n",
      "  File \"/home/tlefort/Documents/peerannot/peerannot/peerannot/models/WAUM_stacked.py\", line 143, in make_step\n",
      "    out = self.model(xi)\n",
      "  File \"/home/tlefort/condaenvs/phd/lib/python3.9/site-packages/torch/nn/modules/module.py\", line 1194, in _call_impl\n",
      "    return forward_call(*input, **kwargs)\n",
      "  File \"/home/tlefort/condaenvs/phd/lib/python3.9/site-packages/torchvision/models/vgg.py\", line 66, in forward\n",
      "    x = self.features(x)\n",
      "  File \"/home/tlefort/condaenvs/phd/lib/python3.9/site-packages/torch/nn/modules/module.py\", line 1194, in _call_impl\n",
      "    return forward_call(*input, **kwargs)\n",
      "  File \"/home/tlefort/condaenvs/phd/lib/python3.9/site-packages/torch/nn/modules/container.py\", line 204, in forward\n",
      "    input = module(input)\n",
      "  File \"/home/tlefort/condaenvs/phd/lib/python3.9/site-packages/torch/nn/modules/module.py\", line 1194, in _call_impl\n",
      "    return forward_call(*input, **kwargs)\n",
      "  File \"/home/tlefort/condaenvs/phd/lib/python3.9/site-packages/torch/nn/modules/conv.py\", line 463, in forward\n",
      "    return self._conv_forward(input, self.weight, self.bias)\n",
      "  File \"/home/tlefort/condaenvs/phd/lib/python3.9/site-packages/torch/nn/modules/conv.py\", line 459, in _conv_forward\n",
      "    return F.conv2d(input, weight, bias, self.stride,\n",
      "torch.cuda.OutOfMemoryError: CUDA out of memory. Tried to allocate 784.00 MiB (GPU 0; 3.82 GiB total capacity; 2.07 GiB already allocated; 663.44 MiB free; 2.07 GiB reserved in total by PyTorch) If reserved memory is >> allocated memory try setting max_split_size_mb to avoid fragmentation.  See documentation for Memory Management and PYTORCH_CUDA_ALLOC_CONF\n"
     ]
    }
   ],
   "source": [
    "! peerannot identify $DIRlabelme -K 8 --method WAUMstacked --labels $path_votes\\\n",
    "    --model vgg16_bn --n-epochs 2 --lr=0.1\\\n",
    "    --maxiter-DS=50 --pretrained"
   ]
  },
  {
   "cell_type": "code",
   "execution_count": null,
   "id": "billion-referral",
   "metadata": {},
   "outputs": [],
   "source": []
  }
 ],
 "metadata": {
  "kernelspec": {
   "display_name": "Python 3",
   "language": "python",
   "name": "python3"
  },
  "language_info": {
   "codemirror_mode": {
    "name": "ipython",
    "version": 3
   },
   "file_extension": ".py",
   "mimetype": "text/x-python",
   "name": "python",
   "nbconvert_exporter": "python",
   "pygments_lexer": "ipython3",
   "version": "3.9.12"
  },
  "toc": {
   "base_numbering": 1,
   "nav_menu": {},
   "number_sections": true,
   "sideBar": true,
   "skip_h1_title": false,
   "title_cell": "Table of Contents",
   "title_sidebar": "Contents",
   "toc_cell": false,
   "toc_position": {},
   "toc_section_display": true,
   "toc_window_display": true
  }
 },
 "nbformat": 4,
 "nbformat_minor": 5
}
