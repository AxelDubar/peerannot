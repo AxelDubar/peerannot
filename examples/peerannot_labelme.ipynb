{
 "cells": [
  {
   "cell_type": "markdown",
   "id": "tracked-dialogue",
   "metadata": {},
   "source": [
    "# Tutorial loading and exploring LabelMe dataset"
   ]
  },
  {
   "cell_type": "markdown",
   "id": "photographic-console",
   "metadata": {},
   "source": [
    "## Basic imports"
   ]
  },
  {
   "cell_type": "code",
   "execution_count": 1,
   "id": "controlled-determination",
   "metadata": {},
   "outputs": [],
   "source": [
    "import numpy as np\n",
    "from pathlib import Path"
   ]
  },
  {
   "cell_type": "code",
   "execution_count": 2,
   "id": "placed-springer",
   "metadata": {},
   "outputs": [
    {
     "name": "stdout",
     "output_type": "stream",
     "text": [
      "/home/tlefort/Documents/peerannot/peerannot/datasets/labelme\n"
     ]
    }
   ],
   "source": [
    "DIR = Path().cwd()\n",
    "DIRlabelme = (DIR / \"..\" / \"datasets\" / \"labelme\").resolve()\n",
    "DIR_module = DIRlabelme / \"labelme.py\"\n",
    "print(DIRlabelme)"
   ]
  },
  {
   "cell_type": "markdown",
   "id": "current-stevens",
   "metadata": {},
   "source": [
    "## Install dataset"
   ]
  },
  {
   "cell_type": "markdown",
   "id": "divine-reason",
   "metadata": {},
   "source": [
    "Only run this command once"
   ]
  },
  {
   "cell_type": "code",
   "execution_count": 3,
   "id": "affecting-clark",
   "metadata": {},
   "outputs": [],
   "source": [
    "# ! peerannot install $DIR_module"
   ]
  },
  {
   "cell_type": "markdown",
   "id": "divided-automation",
   "metadata": {},
   "source": [
    "# Majority vote"
   ]
  },
  {
   "cell_type": "code",
   "execution_count": 4,
   "id": "protective-simon",
   "metadata": {},
   "outputs": [
    {
     "name": "stdout",
     "output_type": "stream",
     "text": [
      "Running aggregation mv with options {}\r\n",
      "Aggregated labels stored at /home/tlefort/Documents/peerannot/peerannot/datasets/labelme/labels/labels_labelme_mv.npy with shape (1000,)\r\n"
     ]
    }
   ],
   "source": [
    "! peerannot aggregate $DIRlabelme -s MV"
   ]
  },
  {
   "cell_type": "markdown",
   "id": "balanced-combining",
   "metadata": {},
   "source": [
    "# Naive Soft labelling"
   ]
  },
  {
   "cell_type": "code",
   "execution_count": 5,
   "id": "conventional-diameter",
   "metadata": {},
   "outputs": [
    {
     "name": "stdout",
     "output_type": "stream",
     "text": [
      "Running aggregation naivesoft with options {}\r\n",
      "Aggregated labels stored at /home/tlefort/Documents/peerannot/peerannot/datasets/labelme/labels/labels_labelme_naivesoft.npy with shape (1000, 8)\r\n"
     ]
    }
   ],
   "source": [
    "! peerannot aggregate $DIRlabelme -s NaiveSoft"
   ]
  },
  {
   "cell_type": "markdown",
   "id": "earned-geology",
   "metadata": {},
   "source": [
    "# Loading datasets"
   ]
  },
  {
   "cell_type": "markdown",
   "id": "hungry-logging",
   "metadata": {},
   "source": [
    "The majority voting in case of equality of votes returns one of the possible classes with equal probabilities (the naive soft aggregation computes the accuracy on aggregation with a simple `np.argmax` and thus does not sample the equalities).\n",
    "This can lead to small differences in aggregation accuracy in practice."
   ]
  },
  {
   "cell_type": "code",
   "execution_count": 7,
   "id": "fiscal-south",
   "metadata": {},
   "outputs": [
    {
     "name": "stdout",
     "output_type": "stream",
     "text": [
      "Loading datasets\n",
      "Accuracy on aggregation: 77.200%\n"
     ]
    }
   ],
   "source": [
    "from peerannot.runners.train import load_all_data\n",
    "\n",
    "labels_path_mv = DIRlabelme / \"labels\" / \"labels_labelme_mv.npy\"\n",
    "trainset, valset, testset = load_all_data(DIRlabelme,\n",
    "                                          labels_path_mv,\n",
    "                                          path_remove=None,\n",
    "                                          labels=labels_path_mv,\n",
    "                                          data_augmentation=False)"
   ]
  },
  {
   "cell_type": "code",
   "execution_count": 11,
   "id": "palestinian-agent",
   "metadata": {},
   "outputs": [
    {
     "name": "stdout",
     "output_type": "stream",
     "text": [
      "Loading datasets\n",
      "Accuracy on aggregation: 76.900%\n"
     ]
    }
   ],
   "source": [
    "labels_path_soft = DIRlabelme / \"labels\" / \"labels_labelme_naivesoft.npy\"\n",
    "trainset, valset, testset = load_all_data(DIRlabelme,\n",
    "                                          labels_path_soft,\n",
    "                                          path_remove=None,\n",
    "                                          labels=labels_path_soft,\n",
    "                                          data_augmentation=False)"
   ]
  },
  {
   "cell_type": "markdown",
   "id": "crucial-cookie",
   "metadata": {},
   "source": [
    "# Train a network"
   ]
  },
  {
   "cell_type": "code",
   "execution_count": 8,
   "id": "worldwide-peeing",
   "metadata": {},
   "outputs": [
    {
     "name": "stdout",
     "output_type": "stream",
     "text": [
      "Running the following configuration:\n",
      "----------\n",
      "- Data at /home/tlefort/Documents/peerannot/peerannot/datasets/labelme will be saved with prefix labelme_mv\n",
      "- number of classes: 8\n",
      "- labels: /home/tlefort/Documents/peerannot/peerannot/datasets/labelme/labels/labels_labelme_mv.npy\n",
      "- model: resnet18\n",
      "- n_epochs: 150\n",
      "- lr: 0.1\n",
      "- scheduler: True\n",
      "- milestones: (50, 100)\n",
      "- num_workers: 8\n",
      "- pretrained: True\n",
      "- optimizer: SGD\n",
      "- img_size: 224\n",
      "- data_augmentation: False\n",
      "- path_remove: None\n",
      "- momentum: 0.9\n",
      "- decay: 0.0005\n",
      "- n_params: 3072\n",
      "- lr_decay: 0.1\n",
      "- batch_size: 64\n",
      "----------\n",
      "Loading datasets\n",
      "Accuracy on aggregation: 77.200%\n",
      "Train set: 1000 tasks\n",
      "Test set: 1188 tasks\n",
      "Validation set: 500 tasks\n",
      "Using cache found in /home/tlefort/.cache/torch/hub/pytorch_vision_main\n",
      "Using cache found in /home/tlefort/.cache/torch/hub/pytorch_vision_main\n",
      "Using cache found in /home/tlefort/.cache/torch/hub/pytorch_vision_main\n",
      "Successfully loaded resnet18 with n_classes=8\n",
      "Training epoch:   1%|▎                          | 2/150 [00:20<25:18, 10.26s/it]^C\n",
      "Training epoch:   1%|▎                          | 2/150 [00:26<33:17, 13.50s/it]\n",
      "\n",
      "Aborted!\n"
     ]
    }
   ],
   "source": [
    "! peerannot train $DIRlabelme -o labelme_mv \\\n",
    "            -K 8 --labels=$labels_path_mv \\\n",
    "            --model resnet18 --n-epochs=150 --lr=0.1 --scheduler -m 50 -m 100 \\\n",
    "            --scheduler --num-workers=8 --pretrained"
   ]
  },
  {
   "cell_type": "code",
   "execution_count": 17,
   "id": "legal-microphone",
   "metadata": {},
   "outputs": [
    {
     "name": "stdout",
     "output_type": "stream",
     "text": [
      "Running the following configuration:\n",
      "----------\n",
      "- Data at /home/tlefort/Documents/peerannot/peerannot/datasets/labelme will be saved with prefix labelme_soft\n",
      "- number of classes: 8\n",
      "- labels: /home/tlefort/Documents/peerannot/peerannot/datasets/labelme/labels/labels_labelme_naivesoft.npy\n",
      "- model: resnet18\n",
      "- n_epochs: 150\n",
      "- lr: 0.1\n",
      "- scheduler: True\n",
      "- milestones: (50, 100)\n",
      "- num_workers: 8\n",
      "- pretrained: True\n",
      "- optimizer: SGD\n",
      "- img_size: 224\n",
      "- path_remove: None\n",
      "- momentum: 0.9\n",
      "- decay: 0.0005\n",
      "- n_params: 3072\n",
      "- lr_decay: 0.1\n",
      "- batch_size: 64\n",
      "----------\n",
      "Loading datasets\n",
      "Accuracy on aggregation: 76.900%\n",
      "Train set: 1000 tasks\n",
      "Test set: 1188 tasks\n",
      "Validation set: 500 tasks\n",
      "Using cache found in /home/tlefort/.cache/torch/hub/pytorch_vision_main\n",
      "Using cache found in /home/tlefort/.cache/torch/hub/pytorch_vision_main\n",
      "Using cache found in /home/tlefort/.cache/torch/hub/pytorch_vision_main\n",
      "Successfully loaded resnet18 with n_classes=8\n",
      "Training epoch:  33%|████████▋                 | 50/150 [09:30<23:39, 14.19s/it]\n",
      "Adjusting learning rate to = 0.0100\n",
      "Training epoch:  67%|████████████████▋        | 100/150 [24:24<15:09, 18.18s/it]\n",
      "Adjusting learning rate to = 0.0010\n",
      "Training epoch:  92%|███████████████████████  | 138/150 [36:56<03:16, 16.35s/it]"
     ]
    },
    {
     "ename": "KeyboardInterrupt",
     "evalue": "",
     "output_type": "error",
     "traceback": [
      "\u001b[0;31m---------------------------------------------------------------------------\u001b[0m",
      "\u001b[0;31mKeyboardInterrupt\u001b[0m                         Traceback (most recent call last)",
      "File \u001b[0;32m~/condaenvs/phd/lib/python3.9/site-packages/IPython/utils/_process_posix.py:153\u001b[0m, in \u001b[0;36mProcessHandler.system\u001b[0;34m(self, cmd)\u001b[0m\n\u001b[1;32m    150\u001b[0m \u001b[38;5;28;01mwhile\u001b[39;00m \u001b[38;5;28;01mTrue\u001b[39;00m:\n\u001b[1;32m    151\u001b[0m     \u001b[38;5;66;03m# res is the index of the pattern that caused the match, so we\u001b[39;00m\n\u001b[1;32m    152\u001b[0m     \u001b[38;5;66;03m# know whether we've finished (if we matched EOF) or not\u001b[39;00m\n\u001b[0;32m--> 153\u001b[0m     res_idx \u001b[38;5;241m=\u001b[39m \u001b[43mchild\u001b[49m\u001b[38;5;241;43m.\u001b[39;49m\u001b[43mexpect_list\u001b[49m\u001b[43m(\u001b[49m\u001b[43mpatterns\u001b[49m\u001b[43m,\u001b[49m\u001b[43m \u001b[49m\u001b[38;5;28;43mself\u001b[39;49m\u001b[38;5;241;43m.\u001b[39;49m\u001b[43mread_timeout\u001b[49m\u001b[43m)\u001b[49m\n\u001b[1;32m    154\u001b[0m     \u001b[38;5;28mprint\u001b[39m(child\u001b[38;5;241m.\u001b[39mbefore[out_size:]\u001b[38;5;241m.\u001b[39mdecode(enc, \u001b[38;5;124m'\u001b[39m\u001b[38;5;124mreplace\u001b[39m\u001b[38;5;124m'\u001b[39m), end\u001b[38;5;241m=\u001b[39m\u001b[38;5;124m'\u001b[39m\u001b[38;5;124m'\u001b[39m)\n",
      "File \u001b[0;32m~/.local/lib/python3.9/site-packages/pexpect/spawnbase.py:372\u001b[0m, in \u001b[0;36mSpawnBase.expect_list\u001b[0;34m(self, pattern_list, timeout, searchwindowsize, async_, **kw)\u001b[0m\n\u001b[1;32m    371\u001b[0m \u001b[38;5;28;01melse\u001b[39;00m:\n\u001b[0;32m--> 372\u001b[0m     \u001b[38;5;28;01mreturn\u001b[39;00m \u001b[43mexp\u001b[49m\u001b[38;5;241;43m.\u001b[39;49m\u001b[43mexpect_loop\u001b[49m\u001b[43m(\u001b[49m\u001b[43mtimeout\u001b[49m\u001b[43m)\u001b[49m\n",
      "File \u001b[0;32m~/.local/lib/python3.9/site-packages/pexpect/expect.py:169\u001b[0m, in \u001b[0;36mExpecter.expect_loop\u001b[0;34m(self, timeout)\u001b[0m\n\u001b[1;32m    168\u001b[0m \u001b[38;5;66;03m# Still have time left, so read more data\u001b[39;00m\n\u001b[0;32m--> 169\u001b[0m incoming \u001b[38;5;241m=\u001b[39m \u001b[43mspawn\u001b[49m\u001b[38;5;241;43m.\u001b[39;49m\u001b[43mread_nonblocking\u001b[49m\u001b[43m(\u001b[49m\u001b[43mspawn\u001b[49m\u001b[38;5;241;43m.\u001b[39;49m\u001b[43mmaxread\u001b[49m\u001b[43m,\u001b[49m\u001b[43m \u001b[49m\u001b[43mtimeout\u001b[49m\u001b[43m)\u001b[49m\n\u001b[1;32m    170\u001b[0m \u001b[38;5;28;01mif\u001b[39;00m \u001b[38;5;28mself\u001b[39m\u001b[38;5;241m.\u001b[39mspawn\u001b[38;5;241m.\u001b[39mdelayafterread \u001b[38;5;129;01mis\u001b[39;00m \u001b[38;5;129;01mnot\u001b[39;00m \u001b[38;5;28;01mNone\u001b[39;00m:\n",
      "File \u001b[0;32m~/.local/lib/python3.9/site-packages/pexpect/pty_spawn.py:500\u001b[0m, in \u001b[0;36mspawn.read_nonblocking\u001b[0;34m(self, size, timeout)\u001b[0m\n\u001b[1;32m    497\u001b[0m \u001b[38;5;66;03m# Because of the select(0) check above, we know that no data\u001b[39;00m\n\u001b[1;32m    498\u001b[0m \u001b[38;5;66;03m# is available right now. But if a non-zero timeout is given\u001b[39;00m\n\u001b[1;32m    499\u001b[0m \u001b[38;5;66;03m# (possibly timeout=None), we call select() with a timeout.\u001b[39;00m\n\u001b[0;32m--> 500\u001b[0m \u001b[38;5;28;01mif\u001b[39;00m (timeout \u001b[38;5;241m!=\u001b[39m \u001b[38;5;241m0\u001b[39m) \u001b[38;5;129;01mand\u001b[39;00m \u001b[43mselect\u001b[49m\u001b[43m(\u001b[49m\u001b[43mtimeout\u001b[49m\u001b[43m)\u001b[49m:\n\u001b[1;32m    501\u001b[0m     \u001b[38;5;28;01mreturn\u001b[39;00m \u001b[38;5;28msuper\u001b[39m(spawn, \u001b[38;5;28mself\u001b[39m)\u001b[38;5;241m.\u001b[39mread_nonblocking(size)\n",
      "File \u001b[0;32m~/.local/lib/python3.9/site-packages/pexpect/pty_spawn.py:450\u001b[0m, in \u001b[0;36mspawn.read_nonblocking.<locals>.select\u001b[0;34m(timeout)\u001b[0m\n\u001b[1;32m    449\u001b[0m \u001b[38;5;28;01mdef\u001b[39;00m \u001b[38;5;21mselect\u001b[39m(timeout):\n\u001b[0;32m--> 450\u001b[0m     \u001b[38;5;28;01mreturn\u001b[39;00m \u001b[43mselect_ignore_interrupts\u001b[49m\u001b[43m(\u001b[49m\u001b[43m[\u001b[49m\u001b[38;5;28;43mself\u001b[39;49m\u001b[38;5;241;43m.\u001b[39;49m\u001b[43mchild_fd\u001b[49m\u001b[43m]\u001b[49m\u001b[43m,\u001b[49m\u001b[43m \u001b[49m\u001b[43m[\u001b[49m\u001b[43m]\u001b[49m\u001b[43m,\u001b[49m\u001b[43m \u001b[49m\u001b[43m[\u001b[49m\u001b[43m]\u001b[49m\u001b[43m,\u001b[49m\u001b[43m \u001b[49m\u001b[43mtimeout\u001b[49m\u001b[43m)\u001b[49m[\u001b[38;5;241m0\u001b[39m]\n",
      "File \u001b[0;32m~/.local/lib/python3.9/site-packages/pexpect/utils.py:143\u001b[0m, in \u001b[0;36mselect_ignore_interrupts\u001b[0;34m(iwtd, owtd, ewtd, timeout)\u001b[0m\n\u001b[1;32m    142\u001b[0m \u001b[38;5;28;01mtry\u001b[39;00m:\n\u001b[0;32m--> 143\u001b[0m     \u001b[38;5;28;01mreturn\u001b[39;00m \u001b[43mselect\u001b[49m\u001b[38;5;241;43m.\u001b[39;49m\u001b[43mselect\u001b[49m\u001b[43m(\u001b[49m\u001b[43miwtd\u001b[49m\u001b[43m,\u001b[49m\u001b[43m \u001b[49m\u001b[43mowtd\u001b[49m\u001b[43m,\u001b[49m\u001b[43m \u001b[49m\u001b[43mewtd\u001b[49m\u001b[43m,\u001b[49m\u001b[43m \u001b[49m\u001b[43mtimeout\u001b[49m\u001b[43m)\u001b[49m\n\u001b[1;32m    144\u001b[0m \u001b[38;5;28;01mexcept\u001b[39;00m \u001b[38;5;167;01mInterruptedError\u001b[39;00m:\n",
      "\u001b[0;31mKeyboardInterrupt\u001b[0m: ",
      "\nDuring handling of the above exception, another exception occurred:\n",
      "\u001b[0;31mKeyboardInterrupt\u001b[0m                         Traceback (most recent call last)",
      "Cell \u001b[0;32mIn[17], line 1\u001b[0m\n\u001b[0;32m----> 1\u001b[0m \u001b[43mget_ipython\u001b[49m\u001b[43m(\u001b[49m\u001b[43m)\u001b[49m\u001b[38;5;241;43m.\u001b[39;49m\u001b[43msystem\u001b[49m\u001b[43m(\u001b[49m\u001b[38;5;124;43m'\u001b[39;49m\u001b[38;5;124;43m peerannot train $DIRlabelme -o labelme_soft              -K 8 --labels=$labels_path_soft              --model resnet18 --n-epochs=150 --lr=0.1 --scheduler -m 50 -m 100              --scheduler --num-workers=8 --pretrained\u001b[39;49m\u001b[38;5;124;43m'\u001b[39;49m\u001b[43m)\u001b[49m\n",
      "File \u001b[0;32m~/.local/lib/python3.9/site-packages/ipykernel/zmqshell.py:647\u001b[0m, in \u001b[0;36mZMQInteractiveShell.system_piped\u001b[0;34m(self, cmd)\u001b[0m\n\u001b[1;32m    645\u001b[0m         \u001b[38;5;28mself\u001b[39m\u001b[38;5;241m.\u001b[39muser_ns[\u001b[38;5;124m'\u001b[39m\u001b[38;5;124m_exit_code\u001b[39m\u001b[38;5;124m'\u001b[39m] \u001b[38;5;241m=\u001b[39m system(cmd)\n\u001b[1;32m    646\u001b[0m \u001b[38;5;28;01melse\u001b[39;00m:\n\u001b[0;32m--> 647\u001b[0m     \u001b[38;5;28mself\u001b[39m\u001b[38;5;241m.\u001b[39muser_ns[\u001b[38;5;124m'\u001b[39m\u001b[38;5;124m_exit_code\u001b[39m\u001b[38;5;124m'\u001b[39m] \u001b[38;5;241m=\u001b[39m \u001b[43msystem\u001b[49m\u001b[43m(\u001b[49m\u001b[38;5;28;43mself\u001b[39;49m\u001b[38;5;241;43m.\u001b[39;49m\u001b[43mvar_expand\u001b[49m\u001b[43m(\u001b[49m\u001b[43mcmd\u001b[49m\u001b[43m,\u001b[49m\u001b[43m \u001b[49m\u001b[43mdepth\u001b[49m\u001b[38;5;241;43m=\u001b[39;49m\u001b[38;5;241;43m1\u001b[39;49m\u001b[43m)\u001b[49m\u001b[43m)\u001b[49m\n",
      "File \u001b[0;32m~/condaenvs/phd/lib/python3.9/site-packages/IPython/utils/_process_posix.py:177\u001b[0m, in \u001b[0;36mProcessHandler.system\u001b[0;34m(self, cmd)\u001b[0m\n\u001b[1;32m    174\u001b[0m         \u001b[38;5;28;01mpass\u001b[39;00m\n\u001b[1;32m    175\u001b[0m     \u001b[38;5;28;01mfinally\u001b[39;00m:\n\u001b[1;32m    176\u001b[0m         \u001b[38;5;66;03m# Ensure the subprocess really is terminated\u001b[39;00m\n\u001b[0;32m--> 177\u001b[0m         \u001b[43mchild\u001b[49m\u001b[38;5;241;43m.\u001b[39;49m\u001b[43mterminate\u001b[49m\u001b[43m(\u001b[49m\u001b[43mforce\u001b[49m\u001b[38;5;241;43m=\u001b[39;49m\u001b[38;5;28;43;01mTrue\u001b[39;49;00m\u001b[43m)\u001b[49m\n\u001b[1;32m    178\u001b[0m \u001b[38;5;66;03m# add isalive check, to ensure exitstatus is set:\u001b[39;00m\n\u001b[1;32m    179\u001b[0m child\u001b[38;5;241m.\u001b[39misalive()\n",
      "File \u001b[0;32m~/.local/lib/python3.9/site-packages/pexpect/pty_spawn.py:650\u001b[0m, in \u001b[0;36mspawn.terminate\u001b[0;34m(self, force)\u001b[0m\n\u001b[1;32m    648\u001b[0m     \u001b[38;5;28;01mreturn\u001b[39;00m \u001b[38;5;28;01mTrue\u001b[39;00m\n\u001b[1;32m    649\u001b[0m \u001b[38;5;28mself\u001b[39m\u001b[38;5;241m.\u001b[39mkill(signal\u001b[38;5;241m.\u001b[39mSIGINT)\n\u001b[0;32m--> 650\u001b[0m \u001b[43mtime\u001b[49m\u001b[38;5;241;43m.\u001b[39;49m\u001b[43msleep\u001b[49m\u001b[43m(\u001b[49m\u001b[38;5;28;43mself\u001b[39;49m\u001b[38;5;241;43m.\u001b[39;49m\u001b[43mdelayafterterminate\u001b[49m\u001b[43m)\u001b[49m\n\u001b[1;32m    651\u001b[0m \u001b[38;5;28;01mif\u001b[39;00m \u001b[38;5;129;01mnot\u001b[39;00m \u001b[38;5;28mself\u001b[39m\u001b[38;5;241m.\u001b[39misalive():\n\u001b[1;32m    652\u001b[0m     \u001b[38;5;28;01mreturn\u001b[39;00m \u001b[38;5;28;01mTrue\u001b[39;00m\n",
      "\u001b[0;31mKeyboardInterrupt\u001b[0m: "
     ]
    }
   ],
   "source": [
    "! peerannot train $DIRlabelme -o labelme_soft \\\n",
    "            -K 8 --labels=$labels_path_soft \\\n",
    "            --model resnet18 --n-epochs=150 --lr=0.1 --scheduler -m 50 -m 100 \\\n",
    "            --scheduler --num-workers=8 --pretrained"
   ]
  },
  {
   "cell_type": "markdown",
   "id": "compound-trader",
   "metadata": {},
   "source": [
    "# WAUM stacked identification"
   ]
  },
  {
   "cell_type": "code",
   "execution_count": 8,
   "id": "sustained-terminal",
   "metadata": {},
   "outputs": [],
   "source": [
    "path_votes = DIRlabelme / \"answers.json\""
   ]
  },
  {
   "cell_type": "code",
   "execution_count": 5,
   "id": "disabled-throw",
   "metadata": {},
   "outputs": [
    {
     "name": "stdout",
     "output_type": "stream",
     "text": [
      "Running the following configuration:\n",
      "----------\n",
      "- Data at /home/tlefort/Documents/peerannot/peerannot/datasets/labelme\n",
      "- number of classes: 8\n",
      "- labels: /home/tlefort/Documents/peerannot/peerannot/datasets/labelme/answers.json\n",
      "- model: vgg16_bn\n",
      "- n_epochs: 2\n",
      "- lr: 0.1\n",
      "- maxiter_ds: 50\n",
      "- pretrained: True\n",
      "- use_pleiss: False\n",
      "- alpha: 0.01\n",
      "- n_params: 3072\n",
      "- momentum: 0.9\n",
      "- decay: 0.0005\n",
      "- img_size: 224\n",
      "----------\n",
      "Train set: 2547 tasks\n",
      "Using cache found in /home/tlefort/.cache/torch/hub/pytorch_vision_main\n",
      "Using cache found in /home/tlefort/.cache/torch/hub/pytorch_vision_main\n",
      "Using cache found in /home/tlefort/.cache/torch/hub/pytorch_vision_main\n",
      "Successfully loaded vgg16_bn with n_classes=8\n",
      "Running identification with method: WAUMstacked\n",
      "Finished: 100%|█████████████████████████████████| 50/50 [00:07<00:00,  6.56it/s]\n",
      "epoch:   0%|                                              | 0/2 [00:03<?, ?it/s]\n",
      "Traceback (most recent call last):\n",
      "  File \"/home/tlefort/condaenvs/phd/bin/peerannot\", line 33, in <module>\n",
      "    sys.exit(load_entry_point('PeerAnnot', 'console_scripts', 'peerannot')())\n",
      "  File \"/home/tlefort/condaenvs/phd/lib/python3.9/site-packages/click/core.py\", line 1134, in __call__\n",
      "    return self.main(*args, **kwargs)\n",
      "  File \"/home/tlefort/condaenvs/phd/lib/python3.9/site-packages/click/core.py\", line 1059, in main\n",
      "    rv = self.invoke(ctx)\n",
      "  File \"/home/tlefort/condaenvs/phd/lib/python3.9/site-packages/click/core.py\", line 1665, in invoke\n",
      "    return _process_result(sub_ctx.command.invoke(sub_ctx))\n",
      "  File \"/home/tlefort/condaenvs/phd/lib/python3.9/site-packages/click/core.py\", line 1401, in invoke\n",
      "    return ctx.invoke(self.callback, **ctx.params)\n",
      "  File \"/home/tlefort/condaenvs/phd/lib/python3.9/site-packages/click/core.py\", line 767, in invoke\n",
      "    return __callback(*args, **kwargs)\n",
      "  File \"/home/tlefort/Documents/peerannot/peerannot/peerannot/runners/identify.py\", line 283, in identify\n",
      "    waum.run(alpha=kwargs[\"alpha\"])\n",
      "  File \"/home/tlefort/Documents/peerannot/peerannot/peerannot/models/WAUM_stacked.py\", line 356, in run\n",
      "    self.get_aum()\n",
      "  File \"/home/tlefort/Documents/peerannot/peerannot/peerannot/models/WAUM_stacked.py\", line 174, in get_aum\n",
      "    len_, out, y, ww, dd, idx = self.make_step(batch)\n",
      "  File \"/home/tlefort/Documents/peerannot/peerannot/peerannot/models/WAUM_stacked.py\", line 143, in make_step\n",
      "    out = self.model(xi)\n",
      "  File \"/home/tlefort/condaenvs/phd/lib/python3.9/site-packages/torch/nn/modules/module.py\", line 1194, in _call_impl\n",
      "    return forward_call(*input, **kwargs)\n",
      "  File \"/home/tlefort/condaenvs/phd/lib/python3.9/site-packages/torchvision/models/vgg.py\", line 66, in forward\n",
      "    x = self.features(x)\n",
      "  File \"/home/tlefort/condaenvs/phd/lib/python3.9/site-packages/torch/nn/modules/module.py\", line 1194, in _call_impl\n",
      "    return forward_call(*input, **kwargs)\n",
      "  File \"/home/tlefort/condaenvs/phd/lib/python3.9/site-packages/torch/nn/modules/container.py\", line 204, in forward\n",
      "    input = module(input)\n",
      "  File \"/home/tlefort/condaenvs/phd/lib/python3.9/site-packages/torch/nn/modules/module.py\", line 1194, in _call_impl\n",
      "    return forward_call(*input, **kwargs)\n",
      "  File \"/home/tlefort/condaenvs/phd/lib/python3.9/site-packages/torch/nn/modules/conv.py\", line 463, in forward\n",
      "    return self._conv_forward(input, self.weight, self.bias)\n",
      "  File \"/home/tlefort/condaenvs/phd/lib/python3.9/site-packages/torch/nn/modules/conv.py\", line 459, in _conv_forward\n",
      "    return F.conv2d(input, weight, bias, self.stride,\n",
      "torch.cuda.OutOfMemoryError: CUDA out of memory. Tried to allocate 784.00 MiB (GPU 0; 3.82 GiB total capacity; 2.07 GiB already allocated; 663.44 MiB free; 2.07 GiB reserved in total by PyTorch) If reserved memory is >> allocated memory try setting max_split_size_mb to avoid fragmentation.  See documentation for Memory Management and PYTORCH_CUDA_ALLOC_CONF\n"
     ]
    }
   ],
   "source": [
    "! peerannot identify $DIRlabelme -K 8 --method WAUMstacked --labels $path_votes\\\n",
    "    --model res --n-epochs 2 --lr=0.1\\\n",
    "    --maxiter-DS=50 --pretrained"
   ]
  },
  {
   "cell_type": "code",
   "execution_count": null,
   "id": "billion-referral",
   "metadata": {},
   "outputs": [],
   "source": []
  }
 ],
 "metadata": {
  "kernelspec": {
   "display_name": "Python 3",
   "language": "python",
   "name": "python3"
  },
  "language_info": {
   "codemirror_mode": {
    "name": "ipython",
    "version": 3
   },
   "file_extension": ".py",
   "mimetype": "text/x-python",
   "name": "python",
   "nbconvert_exporter": "python",
   "pygments_lexer": "ipython3",
   "version": "3.9.12"
  },
  "toc": {
   "base_numbering": 1,
   "nav_menu": {},
   "number_sections": true,
   "sideBar": true,
   "skip_h1_title": false,
   "title_cell": "Table of Contents",
   "title_sidebar": "Contents",
   "toc_cell": false,
   "toc_position": {},
   "toc_section_display": true,
   "toc_window_display": true
  }
 },
 "nbformat": 4,
 "nbformat_minor": 5
}
