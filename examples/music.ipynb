{
 "cells": [
  {
   "cell_type": "markdown",
   "id": "oriented-suspension",
   "metadata": {},
   "source": [
    "# Music dataset"
   ]
  },
  {
   "cell_type": "code",
   "execution_count": 1,
   "id": "personalized-judges",
   "metadata": {},
   "outputs": [],
   "source": [
    "import numpy as np\n",
    "from pathlib import Path"
   ]
  },
  {
   "cell_type": "code",
   "execution_count": 2,
   "id": "correct-extra",
   "metadata": {},
   "outputs": [
    {
     "name": "stdout",
     "output_type": "stream",
     "text": [
      "/home/tlefort/Documents/peerannot/peerannot/datasets/music\n"
     ]
    }
   ],
   "source": [
    "DIR = Path().cwd()\n",
    "DIRmusic = (DIR / \"..\" / \"datasets\" / \"music\").resolve()\n",
    "DIR_module = DIRmusic / \"music.py\"\n",
    "DIR_answers = DIRmusic / \"answers.json\"\n",
    "print(DIRmusic)"
   ]
  },
  {
   "cell_type": "markdown",
   "id": "hearing-liechtenstein",
   "metadata": {},
   "source": [
    "# Majority vote"
   ]
  },
  {
   "cell_type": "code",
   "execution_count": null,
   "id": "fantastic-distribution",
   "metadata": {},
   "outputs": [],
   "source": [
    "! peerannot aggregate $DIRmusic -s MV"
   ]
  },
  {
   "cell_type": "code",
   "execution_count": null,
   "id": "provincial-feedback",
   "metadata": {},
   "outputs": [],
   "source": [
    "from peerannot.runners.train import load_all_data\n",
    "labels_path = DIRmusic / \"labels\" / \"labels_music_mv.npy\"\n",
    "trainset, valset, testset = load_all_data(\n",
    "    DIRmusic, labels_path, path_remove=None, labels=labels_path, img_size=224, data_augmentation=False)"
   ]
  },
  {
   "cell_type": "code",
   "execution_count": null,
   "id": "automatic-intranet",
   "metadata": {},
   "outputs": [],
   "source": [
    "labels_path = DIRmusic / \"labels\" / \"labels_music_mv.npy\"\n",
    "num_epochs = 50"
   ]
  },
  {
   "cell_type": "code",
   "execution_count": null,
   "id": "cognitive-cross",
   "metadata": {
    "scrolled": false
   },
   "outputs": [],
   "source": [
    "! peerannot train {DIRmusic} -o music_mv -K 10 \\\n",
    "    --labels={labels_path} --model resnet34 --img-size=224 \\\n",
    "    --n-epochs={num_epochs} --lr=0.01 \\\n",
    "    --data-augmentation \\\n",
    "    --num-workers 8 --optimizer sgd --pretrained --freeze -m 1000"
   ]
  },
  {
   "cell_type": "code",
   "execution_count": null,
   "id": "transsexual-wrist",
   "metadata": {
    "scrolled": false
   },
   "outputs": [],
   "source": [
    "!cat /home/tlefort/Documents/peerannot/peerannot/datasets/music/results/music_mv.json"
   ]
  },
  {
   "cell_type": "markdown",
   "id": "closing-collar",
   "metadata": {},
   "source": [
    "# Dawid and Skene"
   ]
  },
  {
   "cell_type": "code",
   "execution_count": null,
   "id": "based-fraction",
   "metadata": {},
   "outputs": [],
   "source": [
    "! peerannot aggregate $DIRmusic -s DS"
   ]
  },
  {
   "cell_type": "code",
   "execution_count": null,
   "id": "hundred-paper",
   "metadata": {},
   "outputs": [],
   "source": [
    "from peerannot.runners.train import load_all_data\n",
    "labels_path = DIRmusic / \"labels\" / \"labels_music_ds.npy\"\n",
    "trainset, valset, testset = load_all_data(\n",
    "    DIRmusic, labels_path, path_remove=None, labels=labels_path, img_size=224, data_augmentation=False)"
   ]
  },
  {
   "cell_type": "code",
   "execution_count": null,
   "id": "following-discretion",
   "metadata": {},
   "outputs": [],
   "source": [
    "! peerannot train {DIRmusic} -o music_ds -K 10\\\n",
    "    --labels={labels_path} --model resnet18 --img-size=224\\\n",
    "    --n-epochs={num_epochs} --lr=0.001 \\\n",
    "    --data-augmentation \\\n",
    "    --num-workers 8 --optimizer adam --pretrained --freeze -m 1000"
   ]
  },
  {
   "cell_type": "markdown",
   "id": "complimentary-brooklyn",
   "metadata": {},
   "source": [
    "# GLAD"
   ]
  },
  {
   "cell_type": "code",
   "execution_count": null,
   "id": "vertical-statistics",
   "metadata": {},
   "outputs": [],
   "source": [
    "! peerannot aggregate $DIRmusic -s glad"
   ]
  },
  {
   "cell_type": "code",
   "execution_count": null,
   "id": "framed-shift",
   "metadata": {},
   "outputs": [],
   "source": [
    "from peerannot.runners.train import load_all_data\n",
    "labels_path = DIRmusic / \"labels\" / \"labels_music_glad.npy\"\n",
    "trainset, valset, testset = load_all_data(\n",
    "    DIRmusic, labels_path, path_remove=None, labels=labels_path, img_size=224, data_augmentation=False)"
   ]
  },
  {
   "cell_type": "code",
   "execution_count": null,
   "id": "daily-attraction",
   "metadata": {},
   "outputs": [],
   "source": [
    "! peerannot train {DIRmusic} -o music_glad -K 10\\\n",
    "    --labels={labels_path} --model resnet18 --img-size=224\\\n",
    "    --n-epochs={num_epochs} --lr=0.001 \\\n",
    "    --data-augmentation \\\n",
    "    --num-workers 8 --optimizer adam --pretrained --freeze -m 1000"
   ]
  },
  {
   "cell_type": "markdown",
   "id": "bronze-remainder",
   "metadata": {},
   "source": [
    "# CoNAL"
   ]
  },
  {
   "cell_type": "code",
   "execution_count": null,
   "id": "aquatic-edmonton",
   "metadata": {
    "scrolled": true
   },
   "outputs": [],
   "source": [
    "! peerannot aggregate-deep {DIRmusic} -o music_conal_scale \\\n",
    "    --answers {DIR_answers} -s conal[scale=1e-5] \\\n",
    "    --model=resnet18 --img-size=224 --pretrained --n-classes=10 \\\n",
    "    --freeze -m 10000 \\\n",
    "    --n-epochs={num_epochs} --lr=0.001 --optimizer=adam \\\n",
    "    --data-augmentation \\\n",
    "    --batch-size=64 --num-workers=8 --data-augmentation"
   ]
  },
  {
   "cell_type": "code",
   "execution_count": null,
   "id": "raising-shore",
   "metadata": {},
   "outputs": [],
   "source": [
    "!cat /home/tlefort/Documents/peerannot/peerannot/datasets/music/results/music_conal_scale.json"
   ]
  },
  {
   "cell_type": "markdown",
   "id": "incredible-least",
   "metadata": {},
   "source": [
    "# WAUM"
   ]
  },
  {
   "cell_type": "code",
   "execution_count": null,
   "id": "exotic-italic",
   "metadata": {},
   "outputs": [],
   "source": [
    "! peerannot identify {DIRmusic} -K 10 --method WAUM \\\n",
    "    --labels {DIRanswers} \\\n",
    "    --model resnet18 --n-epochs 250 --lr=0.001 --img-size=224 \\\n",
    "    --maxiter-DS=100 --pretrained --optimizer=adam --alpha=0.05 --freeze -m 10000"
   ]
  },
  {
   "cell_type": "code",
   "execution_count": null,
   "id": "educational-ready",
   "metadata": {},
   "outputs": [],
   "source": [
    "from peerannot.runners.train import load_all_data\n",
    "labels_path = DIRmusic / \"labels\" / \"labels_waum_0.01.npy\"\n",
    "remove_path = DIRmusic / \"identification\" / \"waum_0.05_yang\" / \"too_hard_0.01.txt\"\n",
    "trainset, valset, testset = load_all_data(\n",
    "    DIRmusic, labels_path, path_remove=None, labels=labels_path, img_size=224, data_augmentation=False)"
   ]
  },
  {
   "cell_type": "code",
   "execution_count": null,
   "id": "institutional-median",
   "metadata": {},
   "outputs": [],
   "source": [
    "! peerannot train {DIRmusic} -o music_waum_0.05 -K 10 \\\n",
    "    --labels={labels_path} --model resnet18 --n-epochs={num_epochs} \\\n",
    "    --lr=0.001 -m 15000 --num-workers=8 --path-remove={remove_path} \\\n",
    "    --data-augmentation \\\n",
    "    --pretrained --optimizer=adam --batch-size=64 --freeze"
   ]
  },
  {
   "cell_type": "markdown",
   "id": "traditional-georgia",
   "metadata": {},
   "source": [
    "# CrowdLayer"
   ]
  },
  {
   "cell_type": "code",
   "execution_count": 6,
   "id": "noticed-producer",
   "metadata": {
    "scrolled": false
   },
   "outputs": [
    {
     "name": "stdout",
     "output_type": "stream",
     "text": [
      "Running the following configuration:\n",
      "----------\n",
      "- Data at /home/tlefort/Documents/peerannot/peerannot/datasets/music will be saved with prefix music_cl_test\n",
      "- number of classes: 10\n",
      "- output_name: music_cl_test\n",
      "- answers: /home/tlefort/Documents/peerannot/peerannot/datasets/music/answers.json\n",
      "- strategy: crowdlayer[scale=0]\n",
      "- model: resnet18\n",
      "- img_size: 224\n",
      "- pretrained: True\n",
      "- n_classes: 10\n",
      "- freeze: True\n",
      "- milestones: (10000,)\n",
      "- n_epochs: 2\n",
      "- lr: 0.001\n",
      "- optimizer: adam\n",
      "- data_augmentation: True\n",
      "- batch_size: 64\n",
      "- num_workers: 8\n",
      "- dataset: /home/tlefort/Documents/peerannot/peerannot/datasets/music\n",
      "- momentum: 0.9\n",
      "- decay: 0.0005\n",
      "- scheduler: False\n",
      "- n_params: 3072\n",
      "- lr_decay: 0.1\n",
      "- path_remove: None\n",
      "- metadata_path: None\n",
      "----------\n",
      "Loading datasets\n",
      "Using cache found in /home/tlefort/.cache/torch/hub/pytorch_vision_main\n",
      "Using cache found in /home/tlefort/.cache/torch/hub/pytorch_vision_main\n",
      "Using cache found in /home/tlefort/.cache/torch/hub/pytorch_vision_main\n",
      "Successfully loaded resnet18 with n_classes=10\n",
      "Train set: 2945 tasks\n",
      "Test set: 299 tasks\n",
      "Validation set: 299 tasks\n",
      "Training epoch: 100%|█████████████████████████████| 2/2 [00:22<00:00, 11.47s/it]\n",
      "----------\n",
      "Final metrics:\n",
      "- train_loss: 107.17723083496094\n",
      "- val_loss: 3.027241955632749\n",
      "- val_accuracy: 15.719063545150501\n",
      "- test_accuracy: 9.364548494983278\n",
      "- test_loss: 2.9743356369809564\n",
      "- test_ece: 0.2473752796649933\n",
      "Results stored in /home/tlefort/Documents/peerannot/peerannot/datasets/music/results/music_cl_test.json\n"
     ]
    }
   ],
   "source": [
    "! peerannot aggregate-deep {DIRmusic} -o music_cl_test \\\n",
    "    --answers {DIR_answers} -s crowdlayer[scale=0] \\\n",
    "    --model=resnet18 --img-size=224 --pretrained --n-classes=10 \\\n",
    "    --freeze -m 10000 \\\n",
    "    --n-epochs=2 --lr=0.001 --optimizer=adam \\\n",
    "    --data-augmentation \\\n",
    "    --batch-size=64 --num-workers=8 --data-augmentation"
   ]
  },
  {
   "cell_type": "code",
   "execution_count": 8,
   "id": "fitting-reduction",
   "metadata": {},
   "outputs": [
    {
     "name": "stdout",
     "output_type": "stream",
     "text": [
      "{\r\n",
      "   \"train_loss\": [\r\n",
      "      108.03543090820312,\r\n",
      "      107.17723083496094\r\n",
      "   ],\r\n",
      "   \"val_loss\": [\r\n",
      "      2.9743356369809564,\r\n",
      "      3.027241955632749\r\n",
      "   ],\r\n",
      "   \"val_accuracy\": [\r\n",
      "      9.364548494983278,\r\n",
      "      15.719063545150501\r\n",
      "   ],\r\n",
      "   \"test_accuracy\": 9.364548494983278,\r\n",
      "   \"test_loss\": 2.9743356369809564,\r\n",
      "   \"test_ece\": 0.2473752796649933\r\n",
      "}"
     ]
    }
   ],
   "source": [
    "!cat /home/tlefort/Documents/peerannot/peerannot/datasets/music/results/music_cl_test.json"
   ]
  },
  {
   "cell_type": "code",
   "execution_count": null,
   "id": "instrumental-clark",
   "metadata": {},
   "outputs": [],
   "source": []
  }
 ],
 "metadata": {
  "kernelspec": {
   "display_name": "Python 3.9.12",
   "language": "python",
   "name": "python3"
  },
  "language_info": {
   "codemirror_mode": {
    "name": "ipython",
    "version": 3
   },
   "file_extension": ".py",
   "mimetype": "text/x-python",
   "name": "python",
   "nbconvert_exporter": "python",
   "pygments_lexer": "ipython3",
   "version": "3.9.12"
  },
  "toc": {
   "base_numbering": 1,
   "nav_menu": {},
   "number_sections": true,
   "sideBar": true,
   "skip_h1_title": false,
   "title_cell": "Table of Contents",
   "title_sidebar": "Contents",
   "toc_cell": false,
   "toc_position": {},
   "toc_section_display": true,
   "toc_window_display": true
  },
  "vscode": {
   "interpreter": {
    "hash": "07c96609e46ccdb9c23f842c8106f62d16181cd16ba0c044624e05dd839a69e0"
   }
  }
 },
 "nbformat": 4,
 "nbformat_minor": 5
}
