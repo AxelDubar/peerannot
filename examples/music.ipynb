{
 "cells": [
  {
   "cell_type": "markdown",
   "id": "oriented-suspension",
   "metadata": {},
   "source": [
    "# Music dataset"
   ]
  },
  {
   "cell_type": "code",
   "execution_count": null,
   "id": "personalized-judges",
   "metadata": {},
   "outputs": [],
   "source": [
    "import numpy as np\n",
    "from pathlib import Path"
   ]
  },
  {
   "cell_type": "code",
   "execution_count": null,
   "id": "correct-extra",
   "metadata": {},
   "outputs": [],
   "source": [
    "DIR = Path().cwd()\n",
    "DIRmusic = (DIR / \"..\" / \"datasets\" / \"music\").resolve()\n",
    "DIR_module = DIRmusic / \"music.py\"\n",
    "DIR_answers = DIRmusic / \"answers.json\"\n",
    "print(DIRmusic)"
   ]
  },
  {
   "cell_type": "markdown",
   "id": "hearing-liechtenstein",
   "metadata": {},
   "source": [
    "# Aggregation and training with Majority vote"
   ]
  },
  {
   "cell_type": "code",
   "execution_count": null,
   "id": "fantastic-distribution",
   "metadata": {},
   "outputs": [],
   "source": [
    "! peerannot aggregate $DIRmusic -s MV"
   ]
  },
  {
   "cell_type": "code",
   "execution_count": null,
   "id": "provincial-feedback",
   "metadata": {},
   "outputs": [],
   "source": [
    "from peerannot.runners.train import load_all_data\n",
    "labels_path = DIRmusic / \"labels\" / \"labels_music_mv.npy\"\n",
    "trainset, valset, testset = load_all_data(\n",
    "    DIRmusic, labels_path, path_remove=None, labels=labels_path, img_size=224, data_augmentation=False)"
   ]
  },
  {
   "cell_type": "code",
   "execution_count": null,
   "id": "automatic-intranet",
   "metadata": {},
   "outputs": [],
   "source": [
    "labels_path = DIRmusic / \"labels\" / \"labels_music_mv.npy\"\n",
    "num_epochs = 10"
   ]
  },
  {
   "cell_type": "code",
   "execution_count": null,
   "id": "cognitive-cross",
   "metadata": {
    "scrolled": false
   },
   "outputs": [],
   "source": [
    "! peerannot train $DIRmusic -o music_mv -K 10\\\n",
    "    --labels $labels_path --model resnet18 --img-size=224\\\n",
    "    --n-epochs=$num_epochs --lr=0.01 --scheduler -m 150 -m 250 \\\n",
    "    --num-workers 8 --optimizer adam "
   ]
  }
 ],
 "metadata": {
  "kernelspec": {
   "display_name": "Python 3",
   "language": "python",
   "name": "python3"
  },
  "language_info": {
   "codemirror_mode": {
    "name": "ipython",
    "version": 3
   },
   "file_extension": ".py",
   "mimetype": "text/x-python",
   "name": "python",
   "nbconvert_exporter": "python",
   "pygments_lexer": "ipython3",
   "version": "3.9.12"
  },
  "toc": {
   "base_numbering": 1,
   "nav_menu": {},
   "number_sections": true,
   "sideBar": true,
   "skip_h1_title": false,
   "title_cell": "Table of Contents",
   "title_sidebar": "Contents",
   "toc_cell": false,
   "toc_position": {},
   "toc_section_display": true,
   "toc_window_display": true
  }
 },
 "nbformat": 4,
 "nbformat_minor": 5
}
