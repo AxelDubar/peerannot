{
 "cells": [
  {
   "cell_type": "markdown",
   "id": "pleased-month",
   "metadata": {},
   "source": [
    "# Tutorial"
   ]
  },
  {
   "cell_type": "markdown",
   "id": "identical-chorus",
   "metadata": {},
   "source": [
    "## Basic imports and install library if needed"
   ]
  },
  {
   "cell_type": "code",
   "execution_count": null,
   "id": "acceptable-convert",
   "metadata": {},
   "outputs": [],
   "source": [
    "! pip install peerannot"
   ]
  },
  {
   "cell_type": "code",
   "execution_count": 3,
   "id": "worse-session",
   "metadata": {},
   "outputs": [],
   "source": [
    "import numpy as np\n",
    "from pathlib import Path"
   ]
  },
  {
   "cell_type": "code",
   "execution_count": 4,
   "id": "bizarre-return",
   "metadata": {},
   "outputs": [
    {
     "name": "stdout",
     "output_type": "stream",
     "text": [
      "/home/tlefort/Documents/peerannot/peerannot/datasets/cifar10H\n"
     ]
    }
   ],
   "source": [
    "DIR = Path().cwd()\n",
    "DIRc10h = (DIR / \"..\" / \"datasets\" / \"cifar10H\").resolve()\n",
    "DIR_module = DIRc10h / \"cifar10h.py\"\n",
    "print(DIRc10h)"
   ]
  },
  {
   "cell_type": "markdown",
   "id": "framed-colonial",
   "metadata": {},
   "source": [
    "## Install dataset"
   ]
  },
  {
   "cell_type": "code",
   "execution_count": null,
   "id": "increasing-median",
   "metadata": {},
   "outputs": [],
   "source": [
    "! peerannot install -h"
   ]
  },
  {
   "cell_type": "code",
   "execution_count": null,
   "id": "ancient-objective",
   "metadata": {},
   "outputs": [],
   "source": [
    "! peerannot install $DIR_module"
   ]
  },
  {
   "cell_type": "markdown",
   "id": "bulgarian-newfoundland",
   "metadata": {},
   "source": [
    "# Aggregate labels with majority voting"
   ]
  },
  {
   "cell_type": "markdown",
   "id": "numerous-diameter",
   "metadata": {},
   "source": [
    "Let us consider the majority vote system:\n",
    "$$\\hat y_i = \\arg\\max_{k} \\sum_{j:j \\text{ answered }i} 1\\!\\!1\\{y_{i}^{(j)}=k\\}$$"
   ]
  },
  {
   "cell_type": "code",
   "execution_count": null,
   "id": "enhanced-constitution",
   "metadata": {},
   "outputs": [],
   "source": [
    "! peerannot aggregate -h"
   ]
  },
  {
   "cell_type": "code",
   "execution_count": null,
   "id": "vertical-miracle",
   "metadata": {},
   "outputs": [],
   "source": [
    "! peerannot aggregate $DIRc10h -s MV"
   ]
  },
  {
   "cell_type": "markdown",
   "id": "medical-gather",
   "metadata": {},
   "source": [
    "## Dataset API loader"
   ]
  },
  {
   "cell_type": "code",
   "execution_count": null,
   "id": "greatest-still",
   "metadata": {},
   "outputs": [],
   "source": [
    "from peerannot.runners.train import load_all_data\n",
    "labels_path = DIRc10h / \"labels\" / \"labels_cifar-10h_mv.npy\"\n",
    "trainset, valset, testset = load_all_data(DIRc10h, labels_path, path_remove=None, labels=labels_path, img_size=32)"
   ]
  },
  {
   "cell_type": "code",
   "execution_count": null,
   "id": "sustainable-witch",
   "metadata": {},
   "outputs": [],
   "source": [
    "trainset"
   ]
  },
  {
   "cell_type": "markdown",
   "id": "legal-paper",
   "metadata": {},
   "source": [
    "## Dataset CLI load and train"
   ]
  },
  {
   "cell_type": "code",
   "execution_count": null,
   "id": "elegant-association",
   "metadata": {},
   "outputs": [],
   "source": [
    "! peerannot train -h"
   ]
  },
  {
   "cell_type": "code",
   "execution_count": null,
   "id": "activated-partnership",
   "metadata": {},
   "outputs": [],
   "source": [
    "labels_path = DIRc10h / \"labels\" / \"labels_cifar-10h_mv.npy\"\n",
    "num_epochs = 150"
   ]
  },
  {
   "cell_type": "code",
   "execution_count": null,
   "id": "opposed-voltage",
   "metadata": {
    "scrolled": false
   },
   "outputs": [],
   "source": [
    "! peerannot train $DIRc10h -o cifar10H_MV -K 10\\\n",
    "    --labels $labels_path --model resnet18 --img-size=32\\\n",
    "    --n-epochs=$num_epochs --lr=0.1 --scheduler -m 50 -m 100 \\\n",
    "    --num-workers 8"
   ]
  },
  {
   "cell_type": "markdown",
   "id": "unknown-terry",
   "metadata": {},
   "source": [
    "# Aggregate into soft labels with Dawid and Skene"
   ]
  },
  {
   "cell_type": "code",
   "execution_count": null,
   "id": "wooden-computer",
   "metadata": {},
   "outputs": [],
   "source": [
    "! peerannot aggregate $DIRc10h -s DS"
   ]
  },
  {
   "cell_type": "code",
   "execution_count": 5,
   "id": "awful-boating",
   "metadata": {},
   "outputs": [],
   "source": [
    "labels_path = DIRc10h / \"labels\" / \"labels_cifar-10h_ds.npy\"\n",
    "num_epochs = 150"
   ]
  },
  {
   "cell_type": "code",
   "execution_count": null,
   "id": "reserved-cholesterol",
   "metadata": {},
   "outputs": [],
   "source": [
    "! peerannot train $DIRc10h -o cifar10H_DS -K 10\\\n",
    "    --labels $labels_path --model resnet18 --img-size=32\\\n",
    "    --n-epochs=$num_epochs --lr=0.1 --scheduler -m 50 -m 100 \\\n",
    "    --num-workers 8"
   ]
  },
  {
   "cell_type": "code",
   "execution_count": null,
   "id": "czech-newman",
   "metadata": {},
   "outputs": [],
   "source": []
  },
  {
   "cell_type": "markdown",
   "id": "multiple-queensland",
   "metadata": {},
   "source": [
    "# Task ambiguity identification"
   ]
  },
  {
   "cell_type": "code",
   "execution_count": null,
   "id": "innovative-plane",
   "metadata": {},
   "outputs": [],
   "source": [
    "! peerannot identificationinfo"
   ]
  },
  {
   "cell_type": "code",
   "execution_count": null,
   "id": "synthetic-friday",
   "metadata": {},
   "outputs": [],
   "source": [
    "! peerannot identify -h"
   ]
  },
  {
   "cell_type": "code",
   "execution_count": 6,
   "id": "endless-python",
   "metadata": {},
   "outputs": [],
   "source": [
    "path_votes = DIRc10h / \"answers.json\""
   ]
  },
  {
   "cell_type": "code",
   "execution_count": 24,
   "id": "portuguese-level",
   "metadata": {},
   "outputs": [
    {
     "name": "stdout",
     "output_type": "stream",
     "text": [
      "Running the following configuration:\n",
      "----------\n",
      "- Data at /home/tlefort/Documents/peerannot/peerannot/datasets/cifar10H\n",
      "- number of classes: 10\n",
      "- labels: /home/tlefort/Documents/peerannot/peerannot/datasets/cifar10H/answers.json\n",
      "- model: resnet18\n",
      "- n_epochs: 2\n",
      "- lr: 0.1\n",
      "- img_size: 32\n",
      "- maxiter_ds: 50\n",
      "- use_pleiss: False\n",
      "- alpha: 0.01\n",
      "- n_params: 3072\n",
      "- pretrained: False\n",
      "- momentum: 0.9\n",
      "- decay: 0.0005\n",
      "----------\n",
      "/home/tlefort/Documents/peerannot/peerannot/datasets/cifar10H/train\n",
      "Train set: 488448 tasks\n",
      "Using cache found in /home/tlefort/.cache/torch/hub/pytorch_vision_main\n",
      "Using cache found in /home/tlefort/.cache/torch/hub/pytorch_vision_main\n",
      "Using cache found in /home/tlefort/.cache/torch/hub/pytorch_vision_main\n",
      "Successfully loaded resnet18 with n_classes=10\n",
      "Removing initial downsampling\n",
      "Running identification with method: WAUMstacked\n",
      "Finished:  10%|███▍                              | 5/50 [03:12<28:52, 38.49s/it]\n",
      "epoch:  50%|██████████████████                  | 1/2 [30:05<30:05, 1805.55s/it]^C\n",
      "epoch:  50%|████████████████                | 1/2 [1:01:31<1:01:31, 3691.08s/it]\n",
      "\n",
      "Aborted!\n"
     ]
    }
   ],
   "source": [
    "! peerannot identify $DIRc10h -K 10 --method WAUMstacked --labels $path_votes\\\n",
    "    --model resnet18 --n-epochs 2 --lr=0.1 --img-size=32 \\\n",
    "    --maxiter-DS=50"
   ]
  },
  {
   "cell_type": "code",
   "execution_count": null,
   "id": "consistent-advance",
   "metadata": {},
   "outputs": [],
   "source": []
  }
 ],
 "metadata": {
  "kernelspec": {
   "display_name": "Python 3",
   "language": "python",
   "name": "python3"
  },
  "language_info": {
   "codemirror_mode": {
    "name": "ipython",
    "version": 3
   },
   "file_extension": ".py",
   "mimetype": "text/x-python",
   "name": "python",
   "nbconvert_exporter": "python",
   "pygments_lexer": "ipython3",
   "version": "3.9.12"
  },
  "toc": {
   "base_numbering": 1,
   "nav_menu": {},
   "number_sections": true,
   "sideBar": true,
   "skip_h1_title": false,
   "title_cell": "Table of Contents",
   "title_sidebar": "Contents",
   "toc_cell": false,
   "toc_position": {},
   "toc_section_display": true,
   "toc_window_display": true
  }
 },
 "nbformat": 4,
 "nbformat_minor": 5
}
