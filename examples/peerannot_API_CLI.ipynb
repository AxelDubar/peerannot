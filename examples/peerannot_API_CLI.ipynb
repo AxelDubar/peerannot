{
 "cells": [
  {
   "cell_type": "markdown",
   "id": "pleased-month",
   "metadata": {},
   "source": [
    "# Tutorial"
   ]
  },
  {
   "cell_type": "markdown",
   "id": "identical-chorus",
   "metadata": {},
   "source": [
    "## Basic imports and install library if needed"
   ]
  },
  {
   "cell_type": "markdown",
   "id": "signal-ebony",
   "metadata": {},
   "source": [
    "Install our library if needed by running the following cell."
   ]
  },
  {
   "cell_type": "markdown",
   "id": "loving-buddy",
   "metadata": {},
   "source": [
    "```bash\n",
    "pip install peerannot\n",
    "```"
   ]
  },
  {
   "cell_type": "code",
   "execution_count": 1,
   "id": "worse-session",
   "metadata": {},
   "outputs": [],
   "source": [
    "import numpy as np\n",
    "from pathlib import Path"
   ]
  },
  {
   "cell_type": "code",
   "execution_count": 2,
   "id": "bizarre-return",
   "metadata": {},
   "outputs": [
    {
     "name": "stdout",
     "output_type": "stream",
     "text": [
      "/home/tlefort/Documents/peerannot/peerannot/datasets/cifar10H\n"
     ]
    }
   ],
   "source": [
    "DIR = Path().cwd()\n",
    "DIRc10h = (DIR / \"..\" / \"datasets\" / \"cifar10H\").resolve()\n",
    "DIR_module = DIRc10h / \"cifar10h.py\"\n",
    "print(DIRc10h)"
   ]
  },
  {
   "cell_type": "markdown",
   "id": "framed-colonial",
   "metadata": {},
   "source": [
    "## Install dataset"
   ]
  },
  {
   "cell_type": "code",
   "execution_count": 3,
   "id": "increasing-median",
   "metadata": {},
   "outputs": [
    {
     "name": "stdout",
     "output_type": "stream",
     "text": [
      "Usage: peerannot install [OPTIONS] PATH\r\n",
      "\r\n",
      "  Install dataset from `.py` file\r\n",
      "\r\n",
      "Options:\r\n",
      "  -h, --help  Show this message and exit.\r\n",
      "\r\n",
      "  Each dataset is a folder with:\r\n",
      "\r\n",
      "      - name.py: python file containing how to download and format data\r\n",
      "      - answers.json: json file containing each task voted labels\r\n",
      "      - metadata.json: all metadata for dataset, at least the name, n_task and n_classes\r\n"
     ]
    }
   ],
   "source": [
    "! peerannot install -h"
   ]
  },
  {
   "cell_type": "code",
   "execution_count": 4,
   "id": "ancient-objective",
   "metadata": {},
   "outputs": [
    {
     "name": "stdout",
     "output_type": "stream",
     "text": [
      "Loading data folders at /home/tlefort/Documents/peerannot/peerannot/datasets/cifar10H\n",
      "Files already downloaded and verified\n",
      "Files already downloaded and verified\n",
      "100%|███████████████████████████████████| 10000/10000 [00:09<00:00, 1098.74it/s]\n",
      "100%|███████████████████████████████████| 50000/50000 [00:45<00:00, 1105.28it/s]\n",
      "Created:\n",
      "- train: /home/tlefort/Documents/peerannot/peerannot/datasets/cifar10H/train\n",
      "- val: /home/tlefort/Documents/peerannot/peerannot/datasets/cifar10H/val\n",
      "- test: /home/tlefort/Documents/peerannot/peerannot/datasets/cifar10H/test\n",
      "Handling crowdsourced labels\n",
      "Task: 100%|███████████████████████████████| 10000/10000 [04:22<00:00, 38.13it/s]\n",
      "Train crowd labels are in /home/tlefort/Documents/peerannot/peerannot/datasets/cifar10H/answers.json\n",
      "Train crowd labels (validation set) are in /home/tlefort/Documents/peerannot/peerannot/datasets/cifar10H/answers_valid.json\n"
     ]
    }
   ],
   "source": [
    "! peerannot install $DIR_module"
   ]
  },
  {
   "cell_type": "markdown",
   "id": "bulgarian-newfoundland",
   "metadata": {},
   "source": [
    "# Aggregate labels with majority voting"
   ]
  },
  {
   "cell_type": "markdown",
   "id": "numerous-diameter",
   "metadata": {},
   "source": [
    "Let us consider the majority vote system:\n",
    "$$\\hat y_i = \\arg\\max_{k} \\sum_{j:j \\text{ answered }i} 1\\!\\!1\\{y_{i}^{(j)}=k\\}$$"
   ]
  },
  {
   "cell_type": "code",
   "execution_count": 5,
   "id": "enhanced-constitution",
   "metadata": {},
   "outputs": [
    {
     "name": "stdout",
     "output_type": "stream",
     "text": [
      "Usage: peerannot aggregate [OPTIONS] [DATASET]\r\n",
      "\r\n",
      "  Aggregate crowdsourced labels stored in the provided directory\r\n",
      "\r\n",
      "Options:\r\n",
      "  -s, --strategy TEXT   Aggregation strategy to compute estimated labels from\r\n",
      "  --hard                Only consider hard labels even if the strategy\r\n",
      "                        produces soft labels  [default: False]\r\n",
      "  --metadata_path PATH  Path to the metadata of the dataset if different than\r\n",
      "                        default\r\n",
      "  --answers-file TEXT   Name (with json extension) of the path to the\r\n",
      "                        crowdsourced labels\r\n",
      "  --path-remove PATH    Path to file of index to prune from the training set\r\n",
      "  -h, --help            Show this message and exit.\r\n",
      "\r\n",
      "  All aggregated labels are stored in the associated dataset directory with\r\n",
      "  the strategy name\r\n"
     ]
    }
   ],
   "source": [
    "! peerannot aggregate -h"
   ]
  },
  {
   "cell_type": "code",
   "execution_count": 6,
   "id": "vertical-miracle",
   "metadata": {},
   "outputs": [
    {
     "name": "stdout",
     "output_type": "stream",
     "text": [
      "Running aggregation mv with options {}\n",
      "Aggregated labels stored at /home/tlefort/Documents/peerannot/peerannot/datasets/cifar10H/labels/labels_cifar-10h_mv.npy with shape (9500,)\n"
     ]
    }
   ],
   "source": [
    "! peerannot aggregate $DIRc10h -s MV"
   ]
  },
  {
   "cell_type": "markdown",
   "id": "medical-gather",
   "metadata": {},
   "source": [
    "## Dataset API loader"
   ]
  },
  {
   "cell_type": "code",
   "execution_count": 8,
   "id": "greatest-still",
   "metadata": {},
   "outputs": [
    {
     "name": "stdout",
     "output_type": "stream",
     "text": [
      "Loading datasets\n",
      "Accuracy on aggregation: 99.232%\n"
     ]
    }
   ],
   "source": [
    "from peerannot.runners.train import load_all_data\n",
    "labels_path = DIRc10h / \"labels\" / \"labels_cifar-10h_mv.npy\"\n",
    "trainset, valset, testset = load_all_data(\n",
    "    DIRc10h, labels_path, path_remove=None, labels=labels_path, img_size=32, data_augmentation=False)"
   ]
  },
  {
   "cell_type": "markdown",
   "id": "legal-paper",
   "metadata": {},
   "source": [
    "## Dataset CLI load and train"
   ]
  },
  {
   "cell_type": "code",
   "execution_count": null,
   "id": "elegant-association",
   "metadata": {},
   "outputs": [],
   "source": [
    "! peerannot train -h"
   ]
  },
  {
   "cell_type": "code",
   "execution_count": 9,
   "id": "activated-partnership",
   "metadata": {},
   "outputs": [],
   "source": [
    "labels_path = DIRc10h / \"labels\" / \"labels_cifar-10h_mv.npy\"\n",
    "num_epochs = 10"
   ]
  },
  {
   "cell_type": "code",
   "execution_count": 12,
   "id": "opposed-voltage",
   "metadata": {
    "scrolled": false
   },
   "outputs": [
    {
     "name": "stdout",
     "output_type": "stream",
     "text": [
      "Running the following configuration:\n",
      "----------\n",
      "- Data at /home/tlefort/Documents/peerannot/peerannot/datasets/cifar10H will be saved with prefix cifar10H_MV\n",
      "- number of classes: 10\n",
      "- labels: /home/tlefort/Documents/peerannot/peerannot/datasets/cifar10H/labels/labels_cifar-10h_mv.npy\n",
      "- model: resnet18\n",
      "- img_size: 32\n",
      "- n_epochs: 150\n",
      "- lr: 0.1\n",
      "- scheduler: True\n",
      "- milestones: (50, 100)\n",
      "- num_workers: 8\n",
      "- optimizer: SGD\n",
      "- metadata_path: None\n",
      "- data_augmentation: False\n",
      "- path_remove: None\n",
      "- pretrained: False\n",
      "- momentum: 0.9\n",
      "- decay: 0.0005\n",
      "- n_params: 3072\n",
      "- lr_decay: 0.1\n",
      "- batch_size: 64\n",
      "- freeze: False\n",
      "----------\n",
      "Loading datasets\n",
      "Accuracy on aggregation: 99.232%\n",
      "Train set: 9500 tasks\n",
      "Test set: 50000 tasks\n",
      "Validation set: 500 tasks\n",
      "Using cache found in /home/tlefort/.cache/torch/hub/pytorch_vision_main\n",
      "Using cache found in /home/tlefort/.cache/torch/hub/pytorch_vision_main\n",
      "Using cache found in /home/tlefort/.cache/torch/hub/pytorch_vision_main\n",
      "Successfully loaded resnet18 with n_classes=10\n",
      "Removing initial downsampling\n",
      "Training epoch:  33%|████████▋                 | 50/150 [20:35<51:36, 30.97s/it]\n",
      "Adjusting learning rate to = 0.0100\n",
      "Training epoch:  67%|████████████████▋        | 100/150 [47:27<25:50, 31.00s/it]\n",
      "Adjusting learning rate to = 0.0010\n",
      "Training epoch: 100%|███████████████████████| 150/150 [1:14:46<00:00, 29.91s/it]\n",
      "----------\n",
      "Final metrics:\n",
      "- train_loss: 205.11453247070312\n",
      "- val_loss: 1.66671023273468\n",
      "- val_accuracy: 40.4\n",
      "- test_accuracy: 39.252\n",
      "- test_loss: 1.7129019557571412\n",
      "- test_ece: 0.16455872356891632\n",
      "Results stored in /home/tlefort/Documents/peerannot/peerannot/datasets/cifar10H/results/cifar10H_MV.json\n"
     ]
    }
   ],
   "source": [
    "! peerannot train {DIRc10h} -o cifar10H_MV -K 10\\\n",
    "    --labels {labels_path} --model resnet18 --img-size=32\\\n",
    "    --n-epochs=150 --lr=0.1 --scheduler -m 50 -m 100 \\\n",
    "    --num-workers 8"
   ]
  },
  {
   "cell_type": "markdown",
   "id": "unknown-terry",
   "metadata": {},
   "source": [
    "# Aggregate into soft labels with Dawid and Skene"
   ]
  },
  {
   "cell_type": "code",
   "execution_count": null,
   "id": "wooden-computer",
   "metadata": {},
   "outputs": [],
   "source": [
    "! peerannot aggregate $DIRc10h -s DS"
   ]
  },
  {
   "cell_type": "code",
   "execution_count": null,
   "id": "awful-boating",
   "metadata": {},
   "outputs": [],
   "source": [
    "labels_path = DIRc10h / \"labels\" / \"labels_cifar-10h_ds.npy\"\n",
    "num_epochs = 10"
   ]
  },
  {
   "cell_type": "code",
   "execution_count": null,
   "id": "reserved-cholesterol",
   "metadata": {},
   "outputs": [],
   "source": [
    "! peerannot train $DIRc10h -o cifar10H_DS -K 10\\\n",
    "    --labels $labels_path --model resnet18 --img-size=32\\\n",
    "    --n-epochs=$num_epochs --lr=0.1 --scheduler -m 50 -m 100 \\\n",
    "    --num-workers 8"
   ]
  },
  {
   "cell_type": "markdown",
   "id": "multiple-queensland",
   "metadata": {},
   "source": [
    "# Task ambiguity identification"
   ]
  },
  {
   "cell_type": "code",
   "execution_count": null,
   "id": "innovative-plane",
   "metadata": {},
   "outputs": [],
   "source": [
    "! peerannot identificationinfo"
   ]
  },
  {
   "cell_type": "code",
   "execution_count": null,
   "id": "synthetic-friday",
   "metadata": {},
   "outputs": [],
   "source": [
    "! peerannot identify -h"
   ]
  },
  {
   "cell_type": "code",
   "execution_count": 3,
   "id": "endless-python",
   "metadata": {},
   "outputs": [],
   "source": [
    "path_votes = DIRc10h / \"answers.json\""
   ]
  },
  {
   "cell_type": "code",
   "execution_count": null,
   "id": "portuguese-level",
   "metadata": {},
   "outputs": [],
   "source": [
    "! peerannot identify $DIRc10h -K 10 --method WAUM --labels $path_votes\\\n",
    "    --model resnet18 --n-epochs 0 --lr=0.1 --img-size=32 \\\n",
    "    --maxiter-DS=50"
   ]
  },
  {
   "cell_type": "code",
   "execution_count": 4,
   "id": "skilled-literacy",
   "metadata": {},
   "outputs": [],
   "source": [
    "from peerannot.models.WAUM import WAUM\n",
    "import json\n",
    "with open(path_votes, \"r\") as f:\n",
    "    answers = json.load(f)\n",
    "waum = WAUM(answers, 10, n_workers=2571, n_epoch=1)"
   ]
  },
  {
   "cell_type": "code",
   "execution_count": 5,
   "id": "international-definition",
   "metadata": {},
   "outputs": [
    {
     "data": {
      "application/vnd.jupyter.widget-view+json": {
       "model_id": "8b23aadcdebe40e980e8cb5784cc1bce",
       "version_major": 2,
       "version_minor": 0
      },
      "text/plain": [
       "Dawid and Skene:   0%|          | 0/60 [00:00<?, ?it/s]"
      ]
     },
     "metadata": {},
     "output_type": "display_data"
    },
    {
     "data": {
      "application/vnd.jupyter.widget-view+json": {
       "model_id": "aff42e972ecf4c6791dd1ca8da57423e",
       "version_major": 2,
       "version_minor": 0
      },
      "text/plain": [
       "Dawid and Skene:   0%|          | 0/60 [00:00<?, ?it/s]"
      ]
     },
     "metadata": {},
     "output_type": "display_data"
    }
   ],
   "source": [
    "waum.run()"
   ]
  },
  {
   "cell_type": "code",
   "execution_count": 21,
   "id": "hundred-claim",
   "metadata": {},
   "outputs": [],
   "source": [
    "def get_probas(waum):\n",
    "    \"\"\"Get soft labels distribution for each task\n",
    "\n",
    "    :return: Weighted label frequency for each task in D_pruned\n",
    "    :rtype: numpy.ndarray(n_task, n_classes)\n",
    "    \"\"\"\n",
    "    baseline = np.zeros((len(waum.answers), waum.n_classes))\n",
    "    waum.answers = dict(sorted(waum.answers.items()))\n",
    "    for task_id, tt in enumerate(list(waum.answers.keys())):\n",
    "        if tt not in waum.too_hard[:, 1]:\n",
    "            task = waum.answers[tt]\n",
    "            for worker, vote in task.items():\n",
    "                baseline[task_id, int(vote)] += waum.pi[\n",
    "                    waum.ds.converter.table_worker[int(worker)]\n",
    "                ][int(vote), int(vote)]\n",
    "    waum.baseline = baseline\n",
    "    return np.where(\n",
    "        baseline.sum(axis=1).reshape(-1, 1),\n",
    "        baseline / baseline.sum(axis=1).reshape(-1, 1),\n",
    "        0,\n",
    "    )"
   ]
  },
  {
   "cell_type": "code",
   "execution_count": 22,
   "id": "nervous-language",
   "metadata": {},
   "outputs": [
    {
     "name": "stderr",
     "output_type": "stream",
     "text": [
      "<ipython-input-21-ac94a7602439>:19: RuntimeWarning: invalid value encountered in true_divide\n",
      "  baseline / baseline.sum(axis=1).reshape(-1, 1),\n"
     ]
    }
   ],
   "source": [
    "labs = get_probas(waum)\n",
    "np.save(DIRc10h / \"labels\" / \"labels_waum_0.01.npy\", labs)"
   ]
  },
  {
   "cell_type": "code",
   "execution_count": 23,
   "id": "mighty-dominican",
   "metadata": {},
   "outputs": [
    {
     "name": "stdout",
     "output_type": "stream",
     "text": [
      "Loading datasets\n",
      "Accuracy on aggregation: 98.389%\n"
     ]
    }
   ],
   "source": [
    "from peerannot.runners.train import load_all_data\n",
    "labels_path = DIRc10h / \"labels\" / \"labels_waum_0.01.npy\"\n",
    "trainset, valset, testset = load_all_data(\n",
    "    DIRc10h, labels_path, path_remove=None, labels=labels_path, img_size=32, data_augmentation=False)"
   ]
  }
 ],
 "metadata": {
  "kernelspec": {
   "display_name": "Python 3.9.12",
   "language": "python",
   "name": "python3"
  },
  "language_info": {
   "codemirror_mode": {
    "name": "ipython",
    "version": 3
   },
   "file_extension": ".py",
   "mimetype": "text/x-python",
   "name": "python",
   "nbconvert_exporter": "python",
   "pygments_lexer": "ipython3",
   "version": "3.9.12"
  },
  "toc": {
   "base_numbering": 1,
   "nav_menu": {},
   "number_sections": true,
   "sideBar": true,
   "skip_h1_title": false,
   "title_cell": "Table of Contents",
   "title_sidebar": "Contents",
   "toc_cell": false,
   "toc_position": {},
   "toc_section_display": true,
   "toc_window_display": true
  },
  "vscode": {
   "interpreter": {
    "hash": "07c96609e46ccdb9c23f842c8106f62d16181cd16ba0c044624e05dd839a69e0"
   }
  }
 },
 "nbformat": 4,
 "nbformat_minor": 5
}
