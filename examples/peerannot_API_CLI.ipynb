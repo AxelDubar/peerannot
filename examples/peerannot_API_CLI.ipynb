{
 "cells": [
  {
   "cell_type": "markdown",
   "id": "pleased-month",
   "metadata": {},
   "source": [
    "# Tutorial"
   ]
  },
  {
   "cell_type": "markdown",
   "id": "identical-chorus",
   "metadata": {},
   "source": [
    "## Basic imports and install library if needed"
   ]
  },
  {
   "cell_type": "markdown",
   "id": "signal-ebony",
   "metadata": {},
   "source": [
    "Install our library if needed by running the following cell."
   ]
  },
  {
   "cell_type": "markdown",
   "id": "loving-buddy",
   "metadata": {},
   "source": [
    "```bash\n",
    "pip install peerannot\n",
    "```"
   ]
  },
  {
   "cell_type": "code",
   "execution_count": null,
   "id": "worse-session",
   "metadata": {},
   "outputs": [],
   "source": [
    "import numpy as np\n",
    "from pathlib import Path"
   ]
  },
  {
   "cell_type": "code",
   "execution_count": null,
   "id": "bizarre-return",
   "metadata": {},
   "outputs": [],
   "source": [
    "DIR = Path().cwd()\n",
    "DIRc10h = (DIR / \"..\" / \"datasets\" / \"cifar10H\").resolve()\n",
    "DIR_module = DIRc10h / \"cifar10h.py\"\n",
    "print(DIRc10h)"
   ]
  },
  {
   "cell_type": "markdown",
   "id": "framed-colonial",
   "metadata": {},
   "source": [
    "## Install dataset"
   ]
  },
  {
   "cell_type": "code",
   "execution_count": null,
   "id": "increasing-median",
   "metadata": {},
   "outputs": [],
   "source": [
    "! peerannot install -h"
   ]
  },
  {
   "cell_type": "code",
   "execution_count": null,
   "id": "ancient-objective",
   "metadata": {},
   "outputs": [],
   "source": [
    "! peerannot install $DIR_module"
   ]
  },
  {
   "cell_type": "markdown",
   "id": "bulgarian-newfoundland",
   "metadata": {},
   "source": [
    "# Aggregate labels with majority voting"
   ]
  },
  {
   "cell_type": "markdown",
   "id": "numerous-diameter",
   "metadata": {},
   "source": [
    "Let us consider the majority vote system:\n",
    "$$\\hat y_i = \\arg\\max_{k} \\sum_{j:j \\text{ answered }i} 1\\!\\!1\\{y_{i}^{(j)}=k\\}$$"
   ]
  },
  {
   "cell_type": "code",
   "execution_count": null,
   "id": "enhanced-constitution",
   "metadata": {},
   "outputs": [],
   "source": [
    "! peerannot aggregate -h"
   ]
  },
  {
   "cell_type": "code",
   "execution_count": null,
   "id": "vertical-miracle",
   "metadata": {},
   "outputs": [],
   "source": [
    "! peerannot aggregate $DIRc10h -s MV"
   ]
  },
  {
   "cell_type": "markdown",
   "id": "medical-gather",
   "metadata": {},
   "source": [
    "## Dataset API loader"
   ]
  },
  {
   "cell_type": "code",
   "execution_count": null,
   "id": "greatest-still",
   "metadata": {},
   "outputs": [],
   "source": [
    "from peerannot.runners.train import load_all_data\n",
    "labels_path = DIRc10h / \"labels\" / \"labels_cifar-10h_mv.npy\"\n",
    "trainset, valset, testset = load_all_data(\n",
    "    DIRc10h, labels_path, path_remove=None, labels=labels_path, img_size=32, data_augmentation=False)"
   ]
  },
  {
   "cell_type": "code",
   "execution_count": null,
   "id": "sustainable-witch",
   "metadata": {},
   "outputs": [],
   "source": [
    "trainset"
   ]
  },
  {
   "cell_type": "markdown",
   "id": "legal-paper",
   "metadata": {},
   "source": [
    "## Dataset CLI load and train"
   ]
  },
  {
   "cell_type": "code",
   "execution_count": null,
   "id": "elegant-association",
   "metadata": {},
   "outputs": [],
   "source": [
    "! peerannot train -h"
   ]
  },
  {
   "cell_type": "code",
   "execution_count": null,
   "id": "activated-partnership",
   "metadata": {},
   "outputs": [],
   "source": [
    "labels_path = DIRc10h / \"labels\" / \"labels_cifar-10h_mv.npy\"\n",
    "num_epochs = 10"
   ]
  },
  {
   "cell_type": "code",
   "execution_count": null,
   "id": "opposed-voltage",
   "metadata": {
    "scrolled": false
   },
   "outputs": [],
   "source": [
    "! peerannot train $DIRc10h -o cifar10H_MV -K 10\\\n",
    "    --labels $labels_path --model resnet18 --img-size=32\\\n",
    "    --n-epochs=$num_epochs --lr=0.1 --scheduler -m 50 -m 100 \\\n",
    "    --num-workers 8"
   ]
  },
  {
   "cell_type": "markdown",
   "id": "unknown-terry",
   "metadata": {},
   "source": [
    "# Aggregate into soft labels with Dawid and Skene"
   ]
  },
  {
   "cell_type": "code",
   "execution_count": null,
   "id": "wooden-computer",
   "metadata": {},
   "outputs": [],
   "source": [
    "! peerannot aggregate $DIRc10h -s DS"
   ]
  },
  {
   "cell_type": "code",
   "execution_count": null,
   "id": "awful-boating",
   "metadata": {},
   "outputs": [],
   "source": [
    "labels_path = DIRc10h / \"labels\" / \"labels_cifar-10h_ds.npy\"\n",
    "num_epochs = 10"
   ]
  },
  {
   "cell_type": "code",
   "execution_count": null,
   "id": "reserved-cholesterol",
   "metadata": {},
   "outputs": [],
   "source": [
    "! peerannot train $DIRc10h -o cifar10H_DS -K 10\\\n",
    "    --labels $labels_path --model resnet18 --img-size=32\\\n",
    "    --n-epochs=$num_epochs --lr=0.1 --scheduler -m 50 -m 100 \\\n",
    "    --num-workers 8"
   ]
  },
  {
   "cell_type": "markdown",
   "id": "multiple-queensland",
   "metadata": {},
   "source": [
    "# Task ambiguity identification"
   ]
  },
  {
   "cell_type": "code",
   "execution_count": null,
   "id": "innovative-plane",
   "metadata": {},
   "outputs": [],
   "source": [
    "! peerannot identificationinfo"
   ]
  },
  {
   "cell_type": "code",
   "execution_count": null,
   "id": "synthetic-friday",
   "metadata": {},
   "outputs": [],
   "source": [
    "! peerannot identify -h"
   ]
  },
  {
   "cell_type": "code",
   "execution_count": null,
   "id": "endless-python",
   "metadata": {},
   "outputs": [],
   "source": [
    "path_votes = DIRc10h / \"answers.json\""
   ]
  },
  {
   "cell_type": "code",
   "execution_count": null,
   "id": "portuguese-level",
   "metadata": {},
   "outputs": [],
   "source": [
    "! peerannot identify $DIRc10h -K 10 --method WAUMstacked --labels $path_votes\\\n",
    "    --model resnet18 --n-epochs 10 --lr=0.1 --img-size=32 \\\n",
    "    --maxiter-DS=50"
   ]
  }
 ],
 "metadata": {
  "kernelspec": {
   "display_name": "Python 3",
   "language": "python",
   "name": "python3"
  },
  "language_info": {
   "codemirror_mode": {
    "name": "ipython",
    "version": 3
   },
   "file_extension": ".py",
   "mimetype": "text/x-python",
   "name": "python",
   "nbconvert_exporter": "python",
   "pygments_lexer": "ipython3",
   "version": "3.9.12"
  },
  "toc": {
   "base_numbering": 1,
   "nav_menu": {},
   "number_sections": true,
   "sideBar": true,
   "skip_h1_title": false,
   "title_cell": "Table of Contents",
   "title_sidebar": "Contents",
   "toc_cell": false,
   "toc_position": {},
   "toc_section_display": true,
   "toc_window_display": true
  }
 },
 "nbformat": 4,
 "nbformat_minor": 5
}
